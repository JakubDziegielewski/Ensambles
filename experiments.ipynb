{
 "cells": [
  {
   "cell_type": "code",
   "execution_count": 49,
   "metadata": {},
   "outputs": [],
   "source": [
    "import numpy as np\n",
    "import pandas as pd\n",
    "from sklearn.svm import SVC\n",
    "from sklearn.tree import DecisionTreeClassifier\n",
    "from sklearn.ensemble import RandomForestClassifier\n",
    "from sklearn.naive_bayes import CategoricalNB, GaussianNB\n",
    "from sklearn.preprocessing import LabelEncoder\n",
    "from sklearn.impute import SimpleImputer\n",
    "from sklearn.model_selection import train_test_split\n",
    "from sklearn.metrics import confusion_matrix, roc_curve, auc"
   ]
  },
  {
   "cell_type": "code",
   "execution_count": 2,
   "metadata": {},
   "outputs": [],
   "source": [
    "from src.ensembles import Ensemble"
   ]
  },
  {
   "cell_type": "code",
   "execution_count": 3,
   "metadata": {},
   "outputs": [],
   "source": [
    "def encode_column(column: np.ndarray):\n",
    "    le = LabelEncoder()\n",
    "    column = le.fit_transform(column)\n",
    "    return column\n",
    "\n",
    "\n",
    "def find_intervals(x_train, group_vector):  # auxilary values for data disrcetization\n",
    "    intervals = np.array([np.zeros(i - 1) for i in group_vector])\n",
    "\n",
    "    for i, features in enumerate(x_train.T):\n",
    "        max_value = max(features)\n",
    "        min_value = min(features)\n",
    "        section_size = (max_value - min_value) / group_vector[i]\n",
    "        intervals[i] = np.array(\n",
    "            [min_value + section_size * j for j in range(1, group_vector[i])]\n",
    "        )\n",
    "    return intervals"
   ]
  },
  {
   "cell_type": "code",
   "execution_count": 4,
   "metadata": {},
   "outputs": [],
   "source": [
    "random_state = 3"
   ]
  },
  {
   "cell_type": "markdown",
   "metadata": {},
   "source": [
    "# Breast Cancer"
   ]
  },
  {
   "cell_type": "code",
   "execution_count": 12,
   "metadata": {},
   "outputs": [],
   "source": [
    "from sklearn.datasets import load_breast_cancer\n",
    "breast_cancer_data = load_breast_cancer()\n",
    "\n",
    "x = breast_cancer_data.data\n",
    "y = breast_cancer_data.target\n",
    "\n",
    "x_train, x_test, y_train, y_test = train_test_split(\n",
    "    x, y, test_size=0.1, random_state=random_state\n",
    ")"
   ]
  },
  {
   "cell_type": "code",
   "execution_count": 13,
   "metadata": {},
   "outputs": [
    {
     "name": "stdout",
     "output_type": "stream",
     "text": [
      "0.9298245614035088\n",
      "0.9122807017543859\n"
     ]
    }
   ],
   "source": [
    "clf = GaussianNB()\n",
    "clf.fit(x_train, y_train)\n",
    "score =  clf.score(x_test, y_test)\n",
    "print(score)\n",
    "\n",
    "clf_ens = Ensemble(\n",
    "    GaussianNB, 10, random_state=random_state\n",
    ")\n",
    "clf_ens.fit(x_train, y_train)\n",
    "score = clf_ens.score(x_test, y_test)\n",
    "print(score)"
   ]
  },
  {
   "cell_type": "code",
   "execution_count": 14,
   "metadata": {},
   "outputs": [
    {
     "name": "stdout",
     "output_type": "stream",
     "text": [
      "0.9298245614035088\n",
      "0.9298245614035088\n"
     ]
    }
   ],
   "source": [
    "intervals = find_intervals(x_train, [4] * 30)\n",
    "x_train_discrete = np.array([np.digitize(column , bins=intervals[i]) for i, column in enumerate(x_train.T)]).T\n",
    "x_test_discrete = np.array([np.digitize(column , bins=intervals[i]) for i, column in enumerate(x_test.T)]).T\n",
    "clf = CategoricalNB()\n",
    "clf.fit(x_train_discrete, y_train)\n",
    "score =  clf.score(x_test_discrete, y_test)\n",
    "print(score)\n",
    "\n",
    "clf_ens = Ensemble(\n",
    "    CategoricalNB, 10, random_state=random_state, min_categories=[4] * 30\n",
    ")\n",
    "clf_ens.fit(x_train_discrete, y_train)\n",
    "score = clf_ens.score(x_test_discrete, y_test)\n",
    "print(score)\n"
   ]
  },
  {
   "cell_type": "markdown",
   "metadata": {},
   "source": [
    "# Flights"
   ]
  },
  {
   "cell_type": "code",
   "execution_count": 40,
   "metadata": {},
   "outputs": [],
   "source": [
    "train = pd.read_csv(\"flights/train.csv\", delimiter=\",\")\n",
    "test = pd.read_csv(\"flights/test.csv\", delimiter=\",\")\n",
    "dataset = pd.concat([train, test])\n",
    "dataset = dataset.loc[:, ~dataset.columns.str.contains('^Unnamed')].drop(\"id\", axis=1)\n",
    "for column in [\"Gender\", \"Customer Type\", \"Type of Travel\", \"Class\", \"satisfaction\"]:\n",
    "    dataset[column] = encode_column(dataset[column])\n",
    "\n",
    "\n",
    "x = dataset.drop(\"satisfaction\", axis=1)\n",
    "y = dataset[\"satisfaction\"]\n",
    "\n",
    "x_train, x_test, y_train, y_test = train_test_split(\n",
    "    x, y, test_size=0.99, random_state=random_state\n",
    ")\n",
    "\n",
    "intervals = find_intervals(np.array(x_train[[\"Age\", \"Flight Distance\", \"Departure Delay in Minutes\", \"Arrival Delay in Minutes\"]]), [4] * 4)\n",
    "\n",
    "for i, column in enumerate([\"Age\", \"Flight Distance\", \"Departure Delay in Minutes\", \"Arrival Delay in Minutes\"]):\n",
    "    x_train[column] = np.digitize(x_train[column], bins = intervals[i])\n",
    "    x_test[column] = np.digitize(x_test[column], bins=intervals[i])\n",
    "\n",
    "x_train = np.array(x_train)\n",
    "x_test = np.array(x_test)\n",
    "y_train = np.array(y_train)\n",
    "y_test = np.array(y_test)"
   ]
  },
  {
   "cell_type": "code",
   "execution_count": 52,
   "metadata": {},
   "outputs": [
    {
     "name": "stdout",
     "output_type": "stream",
     "text": [
      "0.8883514022180399\n",
      "[[66269  6448]\n",
      " [ 7908 47957]]\n",
      "AUC: 0.884885969669753\n",
      "0.8556407584265294\n",
      "[[67951  4766]\n",
      " [13796 42069]]\n",
      "AUC: 0.8437528837554409\n"
     ]
    }
   ],
   "source": [
    "\n",
    "clf = CategoricalNB(min_categories=[2, 2, 4, 2, 3, 4, 6, 6, 6, 6, 6, 6, 6, 6, 6, 6, 5, 6, 6, 6, 4, 4])\n",
    "clf.fit(x_train, y_train)\n",
    "prediction = clf.predict(x_test)\n",
    "print(sum(prediction == y_test)/len(y_test))\n",
    "print(confusion_matrix(y_test, prediction))\n",
    "fpr, tpr, thresholds = roc_curve(y_test, prediction, pos_label=1)\n",
    "print(f\"AUC: {auc(fpr, tpr)}\")\n",
    "\n",
    "\n",
    "clf_ens = Ensemble(\n",
    "    CategoricalNB, 100, random_state=random_state, min_categories=[2, 2, 4, 2, 3, 4, 6, 6, 6, 6, 6, 6, 6, 6, 6, 6, 5, 6, 6, 6, 4, 4]\n",
    ")\n",
    "clf_ens.fit(x_train, y_train)\n",
    "prediction = clf_ens.predict(x_test)\n",
    "print(sum(prediction == y_test) / len(y_test))\n",
    "print(confusion_matrix(y_test, prediction))\n",
    "fpr, tpr, thresholds = roc_curve(y_test, prediction, pos_label=1)\n",
    "print(f\"AUC: {auc(fpr, tpr)}\")\n"
   ]
  },
  {
   "cell_type": "code",
   "execution_count": 29,
   "metadata": {},
   "outputs": [
    {
     "name": "stdout",
     "output_type": "stream",
     "text": [
      "0.9021169370518424\n",
      "0.8174550092547946\n"
     ]
    }
   ],
   "source": [
    "\n",
    "clf = SVC()\n",
    "clf.fit(x_train, y_train)\n",
    "score = clf.score(x_test, y_test)\n",
    "print(score)\n",
    "\n",
    "\n",
    "clf_ens = Ensemble(\n",
    "    SVC, 10, random_state=random_state\n",
    ")\n",
    "clf_ens.fit(x_train, y_train)\n",
    "score = clf_ens.score(x_test, y_test)\n",
    "print(score)"
   ]
  },
  {
   "cell_type": "markdown",
   "metadata": {},
   "source": [
    "# Human activity"
   ]
  },
  {
   "cell_type": "code",
   "execution_count": 34,
   "metadata": {},
   "outputs": [],
   "source": [
    "x_train = np.loadtxt(\"human_activity/X_train.txt\", dtype = float)\n",
    "x_test = np.loadtxt(\"human_activity/X_test.txt\", dtype = float)\n",
    "y_train = np.loadtxt(\"human_activity/y_train.txt\", dtype = int)\n",
    "y_test = np.loadtxt(\"human_activity/y_test.txt\", dtype = int)\n",
    "\n",
    "x = np.vstack([x_train, x_test])\n",
    "y = np.append(y_train, y_test)\n",
    "x_train, x_test, y_train, y_test = train_test_split(\n",
    "    x, y, test_size=0.99, random_state=random_state\n",
    ")"
   ]
  },
  {
   "cell_type": "code",
   "execution_count": 39,
   "metadata": {},
   "outputs": [
    {
     "name": "stdout",
     "output_type": "stream",
     "text": [
      "0.803471609296852\n",
      "0.8538785917426694\n"
     ]
    }
   ],
   "source": [
    "\n",
    "clf = DecisionTreeClassifier()\n",
    "clf.fit(x_train, y_train)\n",
    "score = clf.score(x_test, y_test)\n",
    "print(score)\n",
    "\n",
    "\n",
    "clf_ens = Ensemble(\n",
    "    DecisionTreeClassifier, 100, max_attributes= 300, random_state=random_state\n",
    ")\n",
    "clf_ens.fit(x_train, y_train)\n",
    "score = clf_ens.score(x_test, y_test)\n",
    "print(score)"
   ]
  },
  {
   "cell_type": "code",
   "execution_count": 27,
   "metadata": {},
   "outputs": [
    {
     "name": "stdout",
     "output_type": "stream",
     "text": [
      "0.8988802171700034\n",
      "0.8693586698337292\n"
     ]
    }
   ],
   "source": [
    "clf = RandomForestClassifier(10, random_state=random_state)\n",
    "clf.fit(x_train, y_train)\n",
    "score = clf.score(x_test, y_test)\n",
    "print(score)\n",
    "\n",
    "clf_ens = Ensemble(\n",
    "    DecisionTreeClassifier, 10, random_state=random_state\n",
    ")\n",
    "clf_ens.fit(x_train, y_train)\n",
    "score = clf_ens.score(x_test, y_test)\n",
    "print(score)"
   ]
  }
 ],
 "metadata": {
  "kernelspec": {
   "display_name": "Python 3",
   "language": "python",
   "name": "python3"
  },
  "language_info": {
   "codemirror_mode": {
    "name": "ipython",
    "version": 3
   },
   "file_extension": ".py",
   "mimetype": "text/x-python",
   "name": "python",
   "nbconvert_exporter": "python",
   "pygments_lexer": "ipython3",
   "version": "3.12.0"
  }
 },
 "nbformat": 4,
 "nbformat_minor": 2
}
