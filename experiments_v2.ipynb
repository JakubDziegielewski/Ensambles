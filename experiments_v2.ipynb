{
 "cells": [
  {
   "cell_type": "markdown",
   "metadata": {},
   "source": [
    "# ZUM - Projekt"
   ]
  },
  {
   "cell_type": "markdown",
   "metadata": {},
   "source": [
    "Plan badań\n",
    "1. Modele zespołowe dla każdego z algorytmów (SVC, DecisionTreeClassifier,  CategoricalNB, GaussianNB)\n",
    "2. Dla każdego z modelów zespołowych testy dla 5, 10, 50, 100 modeli w zespole.\n",
    "3. Analogiczne testy dla Bagging Classifier\n",
    "4. Analogiczne testy dla Random Forest Classifier (liczba drzew)\n",
    "5. Testy na algorytmach konwencjonalnych\n",
    "6. Wszystko wyżej dla CV = 10\n",
    "7. Wszystko wyżej powtórzone dla dwóch zbiorów danych.\n",
    "\n",
    "** dodatkowo różne opcje podzialu atrybutow na modele w modelach zespolowych\n",
    "\n",
    "w sumie (4*4 + 4*4 + 4 + 4)*2 = 80"
   ]
  },
  {
   "cell_type": "markdown",
   "metadata": {},
   "source": [
    "Import potrzebnych narzędzi."
   ]
  },
  {
   "cell_type": "code",
   "execution_count": 1,
   "metadata": {},
   "outputs": [],
   "source": [
    "import numpy as np\n",
    "import pandas as pd\n",
    "from sklearn.svm import SVC\n",
    "from sklearn.tree import DecisionTreeClassifier\n",
    "from sklearn.ensemble import RandomForestClassifier, BaggingClassifier\n",
    "from sklearn.naive_bayes import CategoricalNB, GaussianNB\n",
    "from IPython.display import display, HTML"
   ]
  },
  {
   "cell_type": "markdown",
   "metadata": {},
   "source": [
    "Import przygotowanej klasy Ensemble."
   ]
  },
  {
   "cell_type": "code",
   "execution_count": 2,
   "metadata": {},
   "outputs": [],
   "source": [
    "from src.ensembles import Ensemble"
   ]
  },
  {
   "cell_type": "markdown",
   "metadata": {},
   "source": [
    "Import funkcji pomocniczych do testów"
   ]
  },
  {
   "cell_type": "code",
   "execution_count": 3,
   "metadata": {},
   "outputs": [],
   "source": [
    "from src.test_utils import *"
   ]
  },
  {
   "cell_type": "markdown",
   "metadata": {},
   "source": [
    "## Human activity"
   ]
  },
  {
   "cell_type": "code",
   "execution_count": 4,
   "metadata": {},
   "outputs": [],
   "source": [
    "random_state = 3"
   ]
  },
  {
   "cell_type": "code",
   "execution_count": 5,
   "metadata": {},
   "outputs": [],
   "source": [
    "min_categories=[4] * 561"
   ]
  },
  {
   "cell_type": "markdown",
   "metadata": {},
   "source": [
    "Załadowanie danych"
   ]
  },
  {
   "cell_type": "code",
   "execution_count": 6,
   "metadata": {},
   "outputs": [],
   "source": [
    "x_train = np.loadtxt(\"human_activity/X_train.txt\", dtype = float)\n",
    "x_test = np.loadtxt(\"human_activity/X_test.txt\", dtype = float)\n",
    "y_train = np.loadtxt(\"human_activity/y_train.txt\", dtype = int)\n",
    "y_test = np.loadtxt(\"human_activity/y_test.txt\", dtype = int)\n",
    "\n",
    "x = np.vstack([x_train, x_test])\n",
    "y = np.append(y_train, y_test)\n",
    "\n",
    "intervals = find_intervals(x_train, min_categories)\n",
    "x_train_discrete = np.array([np.digitize(column , bins=intervals[i]) for i, column in enumerate(x_train.T)]).T\n",
    "x_test_discrete = np.array([np.digitize(column , bins=intervals[i]) for i, column in enumerate(x_test.T)]).T\n",
    "x_discrete = np.vstack([x_train_discrete, x_test_discrete])"
   ]
  },
  {
   "cell_type": "markdown",
   "metadata": {},
   "source": [
    "### Testy na pojedynczych modelach"
   ]
  },
  {
   "cell_type": "markdown",
   "metadata": {},
   "source": [
    "SVC"
   ]
  },
  {
   "cell_type": "code",
   "execution_count": 9,
   "metadata": {},
   "outputs": [],
   "source": [
    "svc_results = test_clf( \n",
    "    x,\n",
    "    y,\n",
    "    x_train,\n",
    "    y_train,\n",
    "    x_test,\n",
    "    y_test,\n",
    "    classifier = SVC,\n",
    "    random_state = random_state\n",
    "    )"
   ]
  },
  {
   "cell_type": "code",
   "execution_count": 10,
   "metadata": {},
   "outputs": [
    {
     "data": {
      "text/html": [
       "<table border=\"1\" class=\"dataframe\">\n",
       "  <thead>\n",
       "    <tr style=\"text-align: right;\">\n",
       "      <th></th>\n",
       "      <th>classifier:</th>\n",
       "      <th>Accuracy</th>\n",
       "      <th>ROC AUC</th>\n",
       "      <th>PR AUC</th>\n",
       "      <th>Precision</th>\n",
       "      <th>Recall</th>\n",
       "      <th>Confusion matrix</th>\n",
       "      <th>CV scores</th>\n",
       "      <th>CV mean score</th>\n",
       "    </tr>\n",
       "  </thead>\n",
       "  <tbody>\n",
       "    <tr>\n",
       "      <th>0</th>\n",
       "      <td>SVC</td>\n",
       "      <td>0.95</td>\n",
       "      <td>0.998</td>\n",
       "      <td>0.99</td>\n",
       "      <td>0.952</td>\n",
       "      <td>0.949</td>\n",
       "      <td>[[488, 5, 3, 0, 0, 0],<br> [20, 451, 0, 0, 0, 0],<br> [10, 26, 384, 0, 0, 0],<br> [0, 2, 0, 438, 51, 0],<br> [0, 0, 0, 29, 503, 0],<br> [0, 0, 0, 0, 0, 537]]</td>\n",
       "      <td>0.971, 0.931, 0.879<br>0.970, 0.974, 0.961<br>0.953, 0.968</td>\n",
       "      <td>0.951</td>\n",
       "    </tr>\n",
       "  </tbody>\n",
       "</table>"
      ],
      "text/plain": [
       "<IPython.core.display.HTML object>"
      ]
     },
     "metadata": {},
     "output_type": "display_data"
    }
   ],
   "source": [
    "display(HTML(svc_results.to_html(escape=False)))"
   ]
  },
  {
   "cell_type": "markdown",
   "metadata": {},
   "source": [
    "Gaussian Naive Bayes"
   ]
  },
  {
   "cell_type": "code",
   "execution_count": 11,
   "metadata": {},
   "outputs": [],
   "source": [
    "gaussNB_results = test_clf( \n",
    "    x,\n",
    "    y,\n",
    "    x_train,\n",
    "    y_train,\n",
    "    x_test,\n",
    "    y_test,\n",
    "    classifier = GaussianNB\n",
    "    )"
   ]
  },
  {
   "cell_type": "code",
   "execution_count": 12,
   "metadata": {},
   "outputs": [
    {
     "data": {
      "text/html": [
       "<table border=\"1\" class=\"dataframe\">\n",
       "  <thead>\n",
       "    <tr style=\"text-align: right;\">\n",
       "      <th></th>\n",
       "      <th>classifier:</th>\n",
       "      <th>Accuracy</th>\n",
       "      <th>ROC AUC</th>\n",
       "      <th>PR AUC</th>\n",
       "      <th>Precision</th>\n",
       "      <th>Recall</th>\n",
       "      <th>Confusion matrix</th>\n",
       "      <th>CV scores</th>\n",
       "      <th>CV mean score</th>\n",
       "    </tr>\n",
       "  </thead>\n",
       "  <tbody>\n",
       "    <tr>\n",
       "      <th>0</th>\n",
       "      <td>Gaussian NB</td>\n",
       "      <td>0.77</td>\n",
       "      <td>0.958</td>\n",
       "      <td>0.788</td>\n",
       "      <td>0.792</td>\n",
       "      <td>0.769</td>\n",
       "      <td>[[416, 38, 42, 0, 0, 0],<br> [9, 451, 11, 0, 0, 0],<br> [80, 83, 257, 0, 0, 0],<br> [0, 7, 0, 368, 111, 5],<br> [0, 15, 0, 54, 455, 8],<br> [0, 3, 0, 211, 0, 323]]</td>\n",
       "      <td>0.765, 0.686, 0.577<br>0.683, 0.704, 0.786<br>0.815, 0.698</td>\n",
       "      <td>0.726</td>\n",
       "    </tr>\n",
       "  </tbody>\n",
       "</table>"
      ],
      "text/plain": [
       "<IPython.core.display.HTML object>"
      ]
     },
     "metadata": {},
     "output_type": "display_data"
    }
   ],
   "source": [
    "display(HTML(gaussNB_results.to_html(escape=False)))"
   ]
  },
  {
   "cell_type": "markdown",
   "metadata": {},
   "source": [
    "Naive Bayes classifier for categorical features"
   ]
  },
  {
   "cell_type": "code",
   "execution_count": 13,
   "metadata": {},
   "outputs": [],
   "source": [
    "catNB_results = test_clf( \n",
    "    x_discrete,\n",
    "    y,\n",
    "    x_train_discrete,\n",
    "    y_train,\n",
    "    x_test_discrete,\n",
    "    y_test,\n",
    "    classifier = CategoricalNB,\n",
    "    min_categories=min_categories\n",
    "    )"
   ]
  },
  {
   "cell_type": "code",
   "execution_count": 14,
   "metadata": {},
   "outputs": [
    {
     "data": {
      "text/html": [
       "<table border=\"1\" class=\"dataframe\">\n",
       "  <thead>\n",
       "    <tr style=\"text-align: right;\">\n",
       "      <th></th>\n",
       "      <th>classifier:</th>\n",
       "      <th>Accuracy</th>\n",
       "      <th>ROC AUC</th>\n",
       "      <th>PR AUC</th>\n",
       "      <th>Precision</th>\n",
       "      <th>Recall</th>\n",
       "      <th>Confusion matrix</th>\n",
       "      <th>CV scores</th>\n",
       "      <th>CV mean score</th>\n",
       "    </tr>\n",
       "  </thead>\n",
       "  <tbody>\n",
       "    <tr>\n",
       "      <th>0</th>\n",
       "      <td>Categorical NB</td>\n",
       "      <td>0.87</td>\n",
       "      <td>0.981</td>\n",
       "      <td>0.898</td>\n",
       "      <td>0.871</td>\n",
       "      <td>0.862</td>\n",
       "      <td>[[452, 8, 36, 0, 0, 0],<br> [24, 428, 19, 0, 0, 0],<br> [84, 63, 273, 0, 0, 0],<br> [0, 2, 0, 377, 111, 1],<br> [0, 1, 0, 33, 498, 0],<br> [0, 0, 0, 0, 0, 537]]</td>\n",
       "      <td>0.868, 0.824, 0.779<br>0.806, 0.811, 0.844<br>0.896, 0.832</td>\n",
       "      <td>0.84</td>\n",
       "    </tr>\n",
       "  </tbody>\n",
       "</table>"
      ],
      "text/plain": [
       "<IPython.core.display.HTML object>"
      ]
     },
     "metadata": {},
     "output_type": "display_data"
    }
   ],
   "source": [
    "display(HTML(catNB_results.to_html(escape=False)))"
   ]
  },
  {
   "cell_type": "markdown",
   "metadata": {},
   "source": [
    "Decision Tree Classifier"
   ]
  },
  {
   "cell_type": "code",
   "execution_count": 15,
   "metadata": {},
   "outputs": [],
   "source": [
    "dt_results = test_clf( \n",
    "    x,\n",
    "    y,\n",
    "    x_train,\n",
    "    y_train,\n",
    "    x_test,\n",
    "    y_test,\n",
    "    classifier = DecisionTreeClassifier,\n",
    "    random_state = random_state\n",
    "    )"
   ]
  },
  {
   "cell_type": "code",
   "execution_count": 16,
   "metadata": {},
   "outputs": [
    {
     "data": {
      "text/html": [
       "<table border=\"1\" class=\"dataframe\">\n",
       "  <thead>\n",
       "    <tr style=\"text-align: right;\">\n",
       "      <th></th>\n",
       "      <th>classifier:</th>\n",
       "      <th>Accuracy</th>\n",
       "      <th>ROC AUC</th>\n",
       "      <th>PR AUC</th>\n",
       "      <th>Precision</th>\n",
       "      <th>Recall</th>\n",
       "      <th>Confusion matrix</th>\n",
       "      <th>CV scores</th>\n",
       "      <th>CV mean score</th>\n",
       "    </tr>\n",
       "  </thead>\n",
       "  <tbody>\n",
       "    <tr>\n",
       "      <th>0</th>\n",
       "      <td>Decision Tree</td>\n",
       "      <td>0.861</td>\n",
       "      <td>0.914</td>\n",
       "      <td>0.764</td>\n",
       "      <td>0.861</td>\n",
       "      <td>0.857</td>\n",
       "      <td>[[451, 26, 19, 0, 0, 0],<br> [66, 374, 31, 0, 0, 0],<br> [25, 57, 338, 0, 0, 0],<br> [0, 0, 0, 374, 117, 0],<br> [0, 0, 0, 69, 463, 0],<br> [0, 0, 0, 0, 0, 537]]</td>\n",
       "      <td>0.901, 0.845, 0.800<br>0.873, 0.891, 0.879<br>0.888, 0.884</td>\n",
       "      <td>0.863</td>\n",
       "    </tr>\n",
       "  </tbody>\n",
       "</table>"
      ],
      "text/plain": [
       "<IPython.core.display.HTML object>"
      ]
     },
     "metadata": {},
     "output_type": "display_data"
    }
   ],
   "source": [
    "display(HTML(dt_results.to_html(escape=False)))"
   ]
  },
  {
   "cell_type": "code",
   "execution_count": 17,
   "metadata": {},
   "outputs": [],
   "source": [
    "single_model_results_df = pd.concat([svc_results, dt_results, gaussNB_results, catNB_results], ignore_index=True)"
   ]
  },
  {
   "cell_type": "code",
   "execution_count": 19,
   "metadata": {},
   "outputs": [
    {
     "data": {
      "text/html": [
       "<table border=\"1\" class=\"dataframe\">\n",
       "  <thead>\n",
       "    <tr style=\"text-align: right;\">\n",
       "      <th></th>\n",
       "      <th>classifier:</th>\n",
       "      <th>Accuracy</th>\n",
       "      <th>ROC AUC</th>\n",
       "      <th>PR AUC</th>\n",
       "      <th>Precision</th>\n",
       "      <th>Recall</th>\n",
       "      <th>Confusion matrix</th>\n",
       "      <th>CV scores</th>\n",
       "      <th>CV mean score</th>\n",
       "    </tr>\n",
       "  </thead>\n",
       "  <tbody>\n",
       "    <tr>\n",
       "      <th>0</th>\n",
       "      <td>SVC</td>\n",
       "      <td>0.950</td>\n",
       "      <td>0.998</td>\n",
       "      <td>0.990</td>\n",
       "      <td>0.952</td>\n",
       "      <td>0.949</td>\n",
       "      <td>[[488, 5, 3, 0, 0, 0],<br> [20, 451, 0, 0, 0, 0],<br> [10, 26, 384, 0, 0, 0],<br> [0, 2, 0, 438, 51, 0],<br> [0, 0, 0, 29, 503, 0],<br> [0, 0, 0, 0, 0, 537]]</td>\n",
       "      <td>0.971, 0.931, 0.879<br>0.970, 0.974, 0.961<br>0.953, 0.968</td>\n",
       "      <td>0.951</td>\n",
       "    </tr>\n",
       "    <tr>\n",
       "      <th>1</th>\n",
       "      <td>Decision Tree</td>\n",
       "      <td>0.861</td>\n",
       "      <td>0.914</td>\n",
       "      <td>0.764</td>\n",
       "      <td>0.861</td>\n",
       "      <td>0.857</td>\n",
       "      <td>[[451, 26, 19, 0, 0, 0],<br> [66, 374, 31, 0, 0, 0],<br> [25, 57, 338, 0, 0, 0],<br> [0, 0, 0, 374, 117, 0],<br> [0, 0, 0, 69, 463, 0],<br> [0, 0, 0, 0, 0, 537]]</td>\n",
       "      <td>0.901, 0.845, 0.800<br>0.873, 0.891, 0.879<br>0.888, 0.884</td>\n",
       "      <td>0.863</td>\n",
       "    </tr>\n",
       "    <tr>\n",
       "      <th>2</th>\n",
       "      <td>Gaussian NB</td>\n",
       "      <td>0.770</td>\n",
       "      <td>0.958</td>\n",
       "      <td>0.788</td>\n",
       "      <td>0.792</td>\n",
       "      <td>0.769</td>\n",
       "      <td>[[416, 38, 42, 0, 0, 0],<br> [9, 451, 11, 0, 0, 0],<br> [80, 83, 257, 0, 0, 0],<br> [0, 7, 0, 368, 111, 5],<br> [0, 15, 0, 54, 455, 8],<br> [0, 3, 0, 211, 0, 323]]</td>\n",
       "      <td>0.765, 0.686, 0.577<br>0.683, 0.704, 0.786<br>0.815, 0.698</td>\n",
       "      <td>0.726</td>\n",
       "    </tr>\n",
       "    <tr>\n",
       "      <th>3</th>\n",
       "      <td>Categorical NB</td>\n",
       "      <td>0.870</td>\n",
       "      <td>0.981</td>\n",
       "      <td>0.898</td>\n",
       "      <td>0.871</td>\n",
       "      <td>0.862</td>\n",
       "      <td>[[452, 8, 36, 0, 0, 0],<br> [24, 428, 19, 0, 0, 0],<br> [84, 63, 273, 0, 0, 0],<br> [0, 2, 0, 377, 111, 1],<br> [0, 1, 0, 33, 498, 0],<br> [0, 0, 0, 0, 0, 537]]</td>\n",
       "      <td>0.868, 0.824, 0.779<br>0.806, 0.811, 0.844<br>0.896, 0.832</td>\n",
       "      <td>0.840</td>\n",
       "    </tr>\n",
       "  </tbody>\n",
       "</table>"
      ],
      "text/plain": [
       "<IPython.core.display.HTML object>"
      ]
     },
     "metadata": {},
     "output_type": "display_data"
    }
   ],
   "source": [
    "display(HTML(single_model_results_df.to_html(escape=False)))"
   ]
  },
  {
   "cell_type": "markdown",
   "metadata": {},
   "source": [
    "### Testy na modelach zespołowych z biblioteki scikit-learn\n",
    "(n - liczba modeli w modelu zespołowym)"
   ]
  },
  {
   "cell_type": "markdown",
   "metadata": {},
   "source": [
    "Random Forest Classifier"
   ]
  },
  {
   "cell_type": "code",
   "execution_count": 7,
   "metadata": {},
   "outputs": [],
   "source": [
    "rf_results = test_ensemble( \n",
    "    x,\n",
    "    y,\n",
    "    x_train,\n",
    "    y_train,\n",
    "    x_test,\n",
    "    y_test,\n",
    "    classifier = RandomForestClassifier,\n",
    "    max_features_values=[1.0, \"sqrt\"],\n",
    "    model = None,\n",
    "    n_estimators_values=[5,10],\n",
    "    random_state = random_state\n",
    "    )"
   ]
  },
  {
   "cell_type": "code",
   "execution_count": 8,
   "metadata": {},
   "outputs": [
    {
     "data": {
      "text/html": [
       "<table border=\"1\" class=\"dataframe\">\n",
       "  <thead>\n",
       "    <tr style=\"text-align: right;\">\n",
       "      <th></th>\n",
       "      <th>Model</th>\n",
       "      <th>n_estimators</th>\n",
       "      <th>max_features</th>\n",
       "      <th>Accuracy</th>\n",
       "      <th>ROC AUC</th>\n",
       "      <th>PR AUC</th>\n",
       "      <th>Precision</th>\n",
       "      <th>Recall</th>\n",
       "      <th>Confusion matrix</th>\n",
       "      <th>CV scores</th>\n",
       "      <th>CV mean score</th>\n",
       "    </tr>\n",
       "  </thead>\n",
       "  <tbody>\n",
       "    <tr>\n",
       "      <th>0</th>\n",
       "      <td>Random Forest</td>\n",
       "      <td>5</td>\n",
       "      <td>1.0</td>\n",
       "      <td>0.877</td>\n",
       "      <td>0.970</td>\n",
       "      <td>0.900</td>\n",
       "      <td>0.878</td>\n",
       "      <td>0.872</td>\n",
       "      <td>[[473, 10, 13, 0, 0, 0],<br> [76, 368, 27, 0, 0, 0],<br> [22, 59, 339, 0, 0, 0],<br> [0, 0, 0, 389, 102, 0],<br> [0, 0, 0, 54, 478, 0],<br> [0, 0, 0, 0, 0, 537]]</td>\n",
       "      <td>0.918, 0.888, 0.825<br>0.932, 0.939, 0.898<br>0.896, 0.924</td>\n",
       "      <td>0.896</td>\n",
       "    </tr>\n",
       "    <tr>\n",
       "      <th>1</th>\n",
       "      <td>Random Forest</td>\n",
       "      <td>10</td>\n",
       "      <td>1.0</td>\n",
       "      <td>0.879</td>\n",
       "      <td>0.981</td>\n",
       "      <td>0.927</td>\n",
       "      <td>0.880</td>\n",
       "      <td>0.875</td>\n",
       "      <td>[[477, 8, 11, 0, 0, 0],<br> [89, 361, 21, 0, 0, 0],<br> [12, 56, 352, 0, 0, 0],<br> [0, 0, 0, 395, 96, 0],<br> [0, 0, 0, 65, 467, 0],<br> [0, 0, 0, 0, 0, 537]]</td>\n",
       "      <td>0.917, 0.903, 0.826<br>0.940, 0.947, 0.909<br>0.899, 0.924</td>\n",
       "      <td>0.904</td>\n",
       "    </tr>\n",
       "    <tr>\n",
       "      <th>2</th>\n",
       "      <td>Random Forest</td>\n",
       "      <td>5</td>\n",
       "      <td>sqrt</td>\n",
       "      <td>0.875</td>\n",
       "      <td>0.981</td>\n",
       "      <td>0.917</td>\n",
       "      <td>0.880</td>\n",
       "      <td>0.869</td>\n",
       "      <td>[[455, 32, 9, 0, 0, 0],<br> [90, 369, 12, 0, 0, 0],<br> [43, 57, 320, 0, 0, 0],<br> [0, 2, 0, 402, 87, 0],<br> [0, 0, 0, 36, 496, 0],<br> [0, 0, 0, 0, 0, 537]]</td>\n",
       "      <td>0.920, 0.907, 0.842<br>0.873, 0.938, 0.919<br>0.920, 0.925</td>\n",
       "      <td>0.906</td>\n",
       "    </tr>\n",
       "    <tr>\n",
       "      <th>3</th>\n",
       "      <td>Random Forest</td>\n",
       "      <td>10</td>\n",
       "      <td>sqrt</td>\n",
       "      <td>0.899</td>\n",
       "      <td>0.990</td>\n",
       "      <td>0.951</td>\n",
       "      <td>0.900</td>\n",
       "      <td>0.895</td>\n",
       "      <td>[[467, 19, 10, 0, 0, 0],<br> [61, 398, 12, 0, 0, 0],<br> [28, 52, 340, 0, 0, 0],<br> [0, 0, 0, 434, 57, 0],<br> [0, 0, 0, 59, 473, 0],<br> [0, 0, 0, 0, 0, 537]]</td>\n",
       "      <td>0.928, 0.925, 0.855<br>0.888, 0.953, 0.938<br>0.936, 0.941</td>\n",
       "      <td>0.922</td>\n",
       "    </tr>\n",
       "  </tbody>\n",
       "</table>"
      ],
      "text/plain": [
       "<IPython.core.display.HTML object>"
      ]
     },
     "metadata": {},
     "output_type": "display_data"
    }
   ],
   "source": [
    "display(HTML(rf_results.to_html(escape=False)))"
   ]
  },
  {
   "cell_type": "markdown",
   "metadata": {},
   "source": [
    "Bagging Classifier"
   ]
  },
  {
   "cell_type": "code",
   "execution_count": null,
   "metadata": {},
   "outputs": [],
   "source": [
    "bag_svc_results = test_ensemble( \n",
    "    x,\n",
    "    y,\n",
    "    x_train,\n",
    "    y_train,\n",
    "    x_test,\n",
    "    y_test,\n",
    "    classifier = BaggingClassifier,\n",
    "    model = SVC(probability=True), \n",
    "    n_estimators_values=[5,10],\n",
    "    random_state = random_state\n",
    "    )"
   ]
  },
  {
   "cell_type": "code",
   "execution_count": null,
   "metadata": {},
   "outputs": [],
   "source": [
    "display(HTML(bag_svc_results.to_html(escape=False)))"
   ]
  },
  {
   "cell_type": "code",
   "execution_count": null,
   "metadata": {},
   "outputs": [],
   "source": [
    "bag_dt_results = test_ensemble( \n",
    "    x,\n",
    "    y,\n",
    "    x_train,\n",
    "    y_train,\n",
    "    x_test,\n",
    "    y_test,\n",
    "    classifier = BaggingClassifier,\n",
    "    model = DecisionTreeClassifier(), \n",
    "    n_estimators_values=[5,10],\n",
    "    random_state = random_state\n",
    "    )"
   ]
  },
  {
   "cell_type": "code",
   "execution_count": null,
   "metadata": {},
   "outputs": [],
   "source": [
    "display(HTML(bag_dt_results.to_html(escape=False)))"
   ]
  },
  {
   "cell_type": "code",
   "execution_count": null,
   "metadata": {},
   "outputs": [],
   "source": [
    "bag_catNB_results = test_ensemble( \n",
    "    x_discrete,\n",
    "    y,\n",
    "    x_train_discrete,\n",
    "    y_train,\n",
    "    x_test_discrete,\n",
    "    y_test,\n",
    "    classifier = BaggingClassifier,\n",
    "    model = CategoricalNB(min_categories=min_categories), \n",
    "    n_estimators_values=[5,10],\n",
    "    random_state = random_state\n",
    "    )"
   ]
  },
  {
   "cell_type": "code",
   "execution_count": null,
   "metadata": {},
   "outputs": [],
   "source": [
    "print(\"Bagging Categorical Naive Bayes:\")\n",
    "display(HTML(bag_catNB_results.to_html(escape=False)))"
   ]
  },
  {
   "cell_type": "code",
   "execution_count": null,
   "metadata": {},
   "outputs": [],
   "source": [
    "bag_gaussNB_results = test_ensemble( \n",
    "    x,\n",
    "    y,\n",
    "    x_train,\n",
    "    y_train,\n",
    "    x_test,\n",
    "    y_test,\n",
    "    classifier = BaggingClassifier,\n",
    "    model = GaussianNB(), \n",
    "    n_estimators_values=[5,10],\n",
    "    random_state = random_state\n",
    "    )"
   ]
  },
  {
   "cell_type": "code",
   "execution_count": null,
   "metadata": {},
   "outputs": [],
   "source": [
    "print(\"Bagging Gaussian Naive Bayes:\")\n",
    "display(HTML(bag_gaussNB_results.to_html(escape=False)))"
   ]
  },
  {
   "cell_type": "markdown",
   "metadata": {},
   "source": [
    "### Testy na przygotowanej implementacji modeli zespołowych"
   ]
  },
  {
   "cell_type": "markdown",
   "metadata": {},
   "source": [
    "Model zespołowy modeli SVC"
   ]
  },
  {
   "cell_type": "code",
   "execution_count": null,
   "metadata": {},
   "outputs": [],
   "source": [
    "ens_svc_results = test_ensemble( \n",
    "    x,\n",
    "    y,\n",
    "    x_train,\n",
    "    y_train,\n",
    "    x_test,\n",
    "    y_test,\n",
    "    classifier = Ensemble,\n",
    "    model = SVC, \n",
    "    n_estimators_values=[5,10],\n",
    "    random_state = random_state\n",
    "    )"
   ]
  },
  {
   "cell_type": "code",
   "execution_count": null,
   "metadata": {},
   "outputs": [],
   "source": [
    "print(\"Ensemble SVC:\")\n",
    "display(HTML(ens_svc_results.to_html(escape=False)))"
   ]
  },
  {
   "cell_type": "markdown",
   "metadata": {},
   "source": [
    "Model zespołowy modeli Gaussian Naive Bayes"
   ]
  },
  {
   "cell_type": "code",
   "execution_count": null,
   "metadata": {},
   "outputs": [],
   "source": [
    "ens_gaussNB_results = test_ensemble( \n",
    "    x,\n",
    "    y,\n",
    "    x_train,\n",
    "    y_train,\n",
    "    x_test,\n",
    "    y_test,\n",
    "    classifier = Ensemble,\n",
    "    model = GaussianNB, \n",
    "    n_estimators_values=[5,10],\n",
    "    random_state = random_state\n",
    "    )"
   ]
  },
  {
   "cell_type": "code",
   "execution_count": null,
   "metadata": {},
   "outputs": [],
   "source": [
    "print(\"Ensemble Gaussian Naive Bayes:\")\n",
    "display(HTML(ens_gaussNB_results.to_html(escape=False)))"
   ]
  },
  {
   "cell_type": "markdown",
   "metadata": {},
   "source": [
    "Model zespołowy modeli Naive Bayes for categorical features"
   ]
  },
  {
   "cell_type": "code",
   "execution_count": null,
   "metadata": {},
   "outputs": [],
   "source": [
    "ens_catNB_results = test_ensemble( \n",
    "    x_discrete,\n",
    "    y,\n",
    "    x_train_discrete,\n",
    "    y_train,\n",
    "    x_test_discrete,\n",
    "    y_test,\n",
    "    classifier = Ensemble,\n",
    "    model = CategoricalNB, \n",
    "    n_estimators_values=[5,10],\n",
    "    random_state = random_state\n",
    "    )"
   ]
  },
  {
   "cell_type": "code",
   "execution_count": null,
   "metadata": {},
   "outputs": [],
   "source": [
    "print(\"Ensemble Categorical Naive Bayes:\")\n",
    "display(HTML(ens_catNB_results.to_html(escape=False)))"
   ]
  },
  {
   "cell_type": "markdown",
   "metadata": {},
   "source": [
    "Model zespołowy modeli Decision Tree Classifier"
   ]
  },
  {
   "cell_type": "code",
   "execution_count": null,
   "metadata": {},
   "outputs": [],
   "source": [
    "ens_dt_results = test_ensemble( \n",
    "    x,\n",
    "    y,\n",
    "    x_train,\n",
    "    y_train,\n",
    "    x_test,\n",
    "    y_test,\n",
    "    classifier = Ensemble,\n",
    "    model = DecisionTreeClassifier, \n",
    "    n_estimators_values=[5,10],\n",
    "    random_state = 4\n",
    "    )"
   ]
  },
  {
   "cell_type": "code",
   "execution_count": null,
   "metadata": {},
   "outputs": [],
   "source": [
    "print(\"Ensemble Decision Tree:\")\n",
    "display(HTML(ens_dt_results.to_html(escape=False)))"
   ]
  }
 ],
 "metadata": {
  "kernelspec": {
   "display_name": "myenv",
   "language": "python",
   "name": "python3"
  },
  "language_info": {
   "codemirror_mode": {
    "name": "ipython",
    "version": 3
   },
   "file_extension": ".py",
   "mimetype": "text/x-python",
   "name": "python",
   "nbconvert_exporter": "python",
   "pygments_lexer": "ipython3",
   "version": "3.11.9"
  }
 },
 "nbformat": 4,
 "nbformat_minor": 2
}
