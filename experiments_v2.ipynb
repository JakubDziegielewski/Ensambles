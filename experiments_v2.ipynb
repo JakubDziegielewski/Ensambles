{
 "cells": [
  {
   "cell_type": "markdown",
   "metadata": {},
   "source": [
    "# ZUM - Projekt"
   ]
  },
  {
   "cell_type": "markdown",
   "metadata": {},
   "source": [
    "Import potrzebnych narzędzi."
   ]
  },
  {
   "cell_type": "code",
   "execution_count": 122,
   "metadata": {},
   "outputs": [],
   "source": [
    "import numpy as np\n",
    "import pandas as pd\n",
    "from sklearn.svm import SVC\n",
    "from sklearn.tree import DecisionTreeClassifier\n",
    "from sklearn.ensemble import RandomForestClassifier, BaggingClassifier\n",
    "from sklearn.naive_bayes import CategoricalNB, GaussianNB\n",
    "from sklearn.preprocessing import LabelEncoder\n",
    "from sklearn.impute import SimpleImputer\n",
    "from sklearn.model_selection import train_test_split\n",
    "from sklearn.metrics import confusion_matrix, roc_curve, auc, roc_auc_score, average_precision_score, precision_score, recall_score, confusion_matrix\n",
    "from sklearn.model_selection import cross_val_score, cross_val_predict\n",
    "from IPython.display import display, HTML"
   ]
  },
  {
   "cell_type": "markdown",
   "metadata": {},
   "source": [
    "Import przygotowanej klasy Ensemble."
   ]
  },
  {
   "cell_type": "code",
   "execution_count": 129,
   "metadata": {},
   "outputs": [],
   "source": [
    "from src.ensembles import Ensemble"
   ]
  },
  {
   "cell_type": "markdown",
   "metadata": {},
   "source": [
    "Plan badań\n",
    "1. Modele zespołowe dla każdego z algorytmów (SVC, DecisionTreeClassifier,  CategoricalNB, GaussianNB)\n",
    "2. Dla każdego z modelów zespołowych testy dla 5, 10, 50, 100 modeli w zespole.\n",
    "3. Analogiczne testy dla Bagging Classifier\n",
    "4. Analogiczne testy dla Random Forest Classifier (liczba drzew)\n",
    "5. Testy na algorytmach konwencjonalnych\n",
    "6. Wszystko wyżej dla CV = 10\n",
    "7. Wszystko wyżej powtórzone dla dwóch zbiorów danych.\n",
    "\n",
    "** dodatkowo różne opcje podzialu atrybutow na modele w modelach zespolowych\n",
    "\n",
    "w sumie (4*4 + 4*4 + 4 + 4)*2 = 80"
   ]
  },
  {
   "cell_type": "markdown",
   "metadata": {},
   "source": [
    "## Human activity"
   ]
  },
  {
   "cell_type": "code",
   "execution_count": 130,
   "metadata": {},
   "outputs": [],
   "source": [
    "random_state = 3"
   ]
  },
  {
   "cell_type": "markdown",
   "metadata": {},
   "source": [
    "Załadowanie danych"
   ]
  },
  {
   "cell_type": "code",
   "execution_count": null,
   "metadata": {},
   "outputs": [],
   "source": [
    "x_train = np.loadtxt(\"human_activity/X_train.txt\", dtype = float)\n",
    "x_test = np.loadtxt(\"human_activity/X_test.txt\", dtype = float)\n",
    "y_train = np.loadtxt(\"human_activity/y_train.txt\", dtype = int)\n",
    "y_test = np.loadtxt(\"human_activity/y_test.txt\", dtype = int)\n",
    "\n",
    "x = np.vstack([x_train, x_test])\n",
    "y = np.append(y_train, y_test)\n",
    "\n",
    "#x_train, x_test, y_train, y_test = train_test_split(\n",
    "#    x, y, test_size=0.99, random_state=random_state\n",
    "#)"
   ]
  },
  {
   "cell_type": "markdown",
   "metadata": {},
   "source": [
    "Funkcja pomocnicza do dyskretyzacji danych"
   ]
  },
  {
   "cell_type": "code",
   "execution_count": 110,
   "metadata": {},
   "outputs": [],
   "source": [
    "def find_intervals(x_train, group_vector):  # auxilary values for data disrcetization\n",
    "    intervals = np.array([np.zeros(i - 1) for i in group_vector])\n",
    "\n",
    "    for i, features in enumerate(x_train.T):\n",
    "        max_value = max(features)\n",
    "        min_value = min(features)\n",
    "        section_size = (max_value - min_value) / group_vector[i]\n",
    "        intervals[i] = np.array(\n",
    "            [min_value + section_size * j for j in range(1, group_vector[i])]\n",
    "        )\n",
    "    return intervals"
   ]
  },
  {
   "cell_type": "code",
   "execution_count": 111,
   "metadata": {},
   "outputs": [],
   "source": [
    "intervals = find_intervals(x_train, [4] * 561)\n",
    "x_train_discrete = np.array([np.digitize(column , bins=intervals[i]) for i, column in enumerate(x_train.T)]).T\n",
    "x_test_discrete = np.array([np.digitize(column , bins=intervals[i]) for i, column in enumerate(x_test.T)]).T\n",
    "x_discrete = np.vstack([x_train_discrete, x_test_discrete])"
   ]
  },
  {
   "cell_type": "markdown",
   "metadata": {},
   "source": [
    "Funkcje do testowania klasyfikatorów"
   ]
  },
  {
   "cell_type": "code",
   "execution_count": null,
   "metadata": {},
   "outputs": [],
   "source": [
    "def test_classifier(clf, x_train, y_train, x_test, y_test):\n",
    "    clf.fit(x_train, y_train)\n",
    "    \n",
    "    accuracy_score = clf.score(x_test, y_test)\n",
    "    y_pred_proba = clf.predict_proba(x_test)\n",
    "    roc_auc = roc_auc_score(y_test, y_pred_proba, average='macro', multi_class='ovr')\n",
    "    pr_auc = average_precision_score(y_test, y_pred_proba, average='macro')\n",
    "    y_pred = clf.predict(x_test)\n",
    "    precision = precision_score(y_test, y_pred, average='macro')\n",
    "    recall = recall_score(y_test, y_pred, average='macro')\n",
    "    conf_matrix = confusion_matrix(y_test, y_pred)\n",
    "    \n",
    "    return accuracy_score, roc_auc, pr_auc, precision, recall, conf_matrix"
   ]
  },
  {
   "cell_type": "code",
   "execution_count": null,
   "metadata": {},
   "outputs": [],
   "source": [
    "def test_cv_classifier(clf, x, y, n=10):\n",
    "   scores = cross_val_score(clf, x, y, cv=n)\n",
    "   scores_mean = scores.mean()\n",
    "   return scores, scores_mean"
   ]
  },
  {
   "cell_type": "markdown",
   "metadata": {},
   "source": [
    "Funkcja do wypisywania wyników"
   ]
  },
  {
   "cell_type": "code",
   "execution_count": 135,
   "metadata": {},
   "outputs": [],
   "source": [
    "def print_results(accuracy_score, roc_auc, pr_auc, precision, recall, conf_matrix, scores, scores_mean):\n",
    "    print(\"Accuracy: {:.3f}\".format(accuracy_score))\n",
    "    print(\"ROC AUC: {:.3f}\".format(roc_auc))\n",
    "    print(\"PR AUC: {:.3f}\".format(pr_auc))\n",
    "    print(\"Precision: {:.3f}\".format(precision))\n",
    "    print(\"Recall: {:.3f}\".format(recall))\n",
    "    print(\"Confusion matrix:\\n\", conf_matrix)\n",
    "    \n",
    "    print(\"CV scores:\", end=\" \")\n",
    "    for score in scores:\n",
    "        print(\"{:.3f}\".format(score), end=\" \")\n",
    "    print()\n",
    "    \n",
    "    print(\"CV mean score: {:.3f}\".format(scores_mean))"
   ]
  },
  {
   "cell_type": "markdown",
   "metadata": {},
   "source": [
    "Funkcje do formatowania macierzy pomyłek i wyników z CV do lepszej prezentacji\n",
    "w formie tabeli"
   ]
  },
  {
   "cell_type": "code",
   "execution_count": null,
   "metadata": {},
   "outputs": [],
   "source": [
    "def format_conf_matrix(conf_matrix):\n",
    "    formatted_matrix = '[' + ',<br> '.join(['[' + ', '.join(map(str, row)) + ']' for row in conf_matrix]) + ']'\n",
    "    return formatted_matrix\n",
    "\n",
    "# Define a function to format CV scores into multiple lines\n",
    "def format_cv_scores(cv_scores):\n",
    "    lines = []\n",
    "    for i in range(0, len(cv_scores), 4):\n",
    "        line = ', '.join(f'{score:.3f}' for score in cv_scores[i:i+3])\n",
    "        lines.append(line)\n",
    "    return '<br>'.join(lines)"
   ]
  },
  {
   "cell_type": "markdown",
   "metadata": {},
   "source": [
    "Funkcja do testów modeli zespołowych"
   ]
  },
  {
   "cell_type": "code",
   "execution_count": 162,
   "metadata": {},
   "outputs": [],
   "source": [
    "def test_ensemble( \n",
    "    x,\n",
    "    y,\n",
    "    x_train,\n",
    "    y_train,\n",
    "    x_test,\n",
    "    y_test,\n",
    "    classifier,\n",
    "    model = None, \n",
    "    n_estimators_values=[5,10,50,100],\n",
    "    random_state = random_state,\n",
    "    min_categories = [4] * 561\n",
    "    ):\n",
    "    results = []\n",
    "    n = n_estimators_values\n",
    "    for n_estimators in n:\n",
    "        if classifier == RandomForestClassifier:\n",
    "            clf = classifier(n_estimators=n_estimators, random_state=random_state)\n",
    "            accuracy_score, roc_auc, pr_auc, precision, recall, conf_matrix = test_classifier(clf, x_train, y_train, x_test, y_test)\n",
    "            scores, scores_mean = test_cv_classifier(clf, x, y, n=10)\n",
    "        elif classifier == Ensemble:\n",
    "            if model == CategoricalNB:\n",
    "                clf = classifier(classifier_constructor=model, classifiers_number=n_estimators, random_state=random_state, min_categories=min_categories)\n",
    "            else:\n",
    "                clf = classifier(classifier_constructor=model, classifiers_number=n_estimators, random_state=random_state)\n",
    "            accuracy_score, roc_auc, pr_auc, precision, recall, conf_matrix = test_classifier(clf, x_train, y_train, x_test, y_test)\n",
    "            scores, scores_mean = test_cv_classifier(clf, x, y, n=10)\n",
    "        else:\n",
    "            clf = classifier(estimator=model, n_estimators=n_estimators, random_state=random_state)\n",
    "            accuracy_score, roc_auc, pr_auc, precision, recall, conf_matrix = test_classifier(clf, x_train, y_train, x_test, y_test)\n",
    "            scores, scores_mean = test_cv_classifier(clf, x, y, n=10)\n",
    "            \n",
    "        \n",
    "        results.append({\n",
    "            'n': n_estimators,\n",
    "            'Accuracy': round(accuracy_score, 3),\n",
    "            'ROC AUC': round(roc_auc, 3),\n",
    "            'PR AUC': round(pr_auc, 3),\n",
    "            'Precision': round(precision, 3),\n",
    "            'Recall': round(recall, 3),\n",
    "            'Confusion matrix': format_conf_matrix(conf_matrix),\n",
    "            'CV scores': format_cv_scores(scores),\n",
    "            'CV mean score': round(scores_mean, 3)\n",
    "        })\n",
    "\n",
    "    results_df = pd.DataFrame(results)\n",
    "    return results_df"
   ]
  },
  {
   "cell_type": "markdown",
   "metadata": {},
   "source": [
    "### Testy na pojedynczych modelach"
   ]
  },
  {
   "cell_type": "markdown",
   "metadata": {},
   "source": [
    "SVC"
   ]
  },
  {
   "cell_type": "code",
   "execution_count": 167,
   "metadata": {},
   "outputs": [
    {
     "name": "stdout",
     "output_type": "stream",
     "text": [
      "SVC:\n",
      "Accuracy: 0.950\n",
      "ROC AUC: 0.998\n",
      "PR AUC: 0.990\n",
      "Precision: 0.952\n",
      "Recall: 0.949\n",
      "Confusion matrix:\n",
      " [[488   5   3   0   0   0]\n",
      " [ 20 451   0   0   0   0]\n",
      " [ 10  26 384   0   0   0]\n",
      " [  0   2   0 438  51   0]\n",
      " [  0   0   0  29 503   0]\n",
      " [  0   0   0   0   0 537]]\n",
      "CV scores: 0.971 0.931 0.879 0.947 0.970 0.974 0.961 0.956 0.953 0.968 \n",
      "CV mean score: 0.951\n"
     ]
    }
   ],
   "source": [
    "clf_svc = SVC(probability=True)\n",
    "svc_accuracy_score, svc_roc_auc, svc_pr_auc, svc_precision, svc_recall,\\\n",
    "    svc_conf_matrix = test_classifier(clf_svc, x_train, y_train, x_test, y_test)\n",
    "svc_scores, svc_scores_mean = test_cv_classifier(clf_svc, x, y, n=10)\n",
    "print(\"SVC:\")\n",
    "print_results(svc_accuracy_score, svc_roc_auc, svc_pr_auc, svc_precision, svc_recall,\\\n",
    "    svc_conf_matrix, svc_scores, svc_scores_mean)\n"
   ]
  },
  {
   "cell_type": "markdown",
   "metadata": {},
   "source": [
    "Gaussian Naive Bayes"
   ]
  },
  {
   "cell_type": "code",
   "execution_count": 168,
   "metadata": {},
   "outputs": [
    {
     "name": "stdout",
     "output_type": "stream",
     "text": [
      "Gaussian Naive Bayes:\n",
      "Accuracy: 0.770\n",
      "ROC AUC: 0.958\n",
      "PR AUC: 0.788\n",
      "Precision: 0.792\n",
      "Recall: 0.769\n",
      "Confusion matrix:\n",
      " [[416  38  42   0   0   0]\n",
      " [  9 451  11   0   0   0]\n",
      " [ 80  83 257   0   0   0]\n",
      " [  0   7   0 368 111   5]\n",
      " [  0  15   0  54 455   8]\n",
      " [  0   3   0 211   0 323]]\n",
      "CV scores: 0.765 0.686 0.577 0.754 0.683 0.704 0.786 0.792 0.815 0.698 \n",
      "CV mean score: 0.726\n"
     ]
    }
   ],
   "source": [
    "clf_gaussNB = GaussianNB()\n",
    "gaussNB_accuracy_score, gaussNB_roc_auc, gaussNB_pr_auc, gaussNB_precision, gaussNB_recall,\\\n",
    "    gaussNB_conf_matrix = test_classifier(clf_gaussNB, x_train, y_train, x_test, y_test)\n",
    "gaussNB_scores, gaussNB_scores_mean = test_cv_classifier(clf_gaussNB, x, y, n=10)\n",
    "print(\"Gaussian Naive Bayes:\")\n",
    "print_results(gaussNB_accuracy_score, gaussNB_roc_auc, gaussNB_pr_auc, gaussNB_precision, gaussNB_recall,\\\n",
    "    gaussNB_conf_matrix, gaussNB_scores, gaussNB_scores_mean)"
   ]
  },
  {
   "cell_type": "markdown",
   "metadata": {},
   "source": [
    "Naive Bayes classifier for categorical features"
   ]
  },
  {
   "cell_type": "code",
   "execution_count": 169,
   "metadata": {},
   "outputs": [
    {
     "name": "stdout",
     "output_type": "stream",
     "text": [
      "Categorical Naive Bayes:\n",
      "Accuracy: 0.870\n",
      "ROC AUC: 0.981\n",
      "PR AUC: 0.898\n",
      "Precision: 0.871\n",
      "Recall: 0.862\n",
      "Confusion matrix:\n",
      " [[452   8  36   0   0   0]\n",
      " [ 24 428  19   0   0   0]\n",
      " [ 84  63 273   0   0   0]\n",
      " [  0   2   0 377 111   1]\n",
      " [  0   1   0  33 498   0]\n",
      " [  0   0   0   0   0 537]]\n",
      "CV scores: 0.954 0.917 0.859 0.951 0.964 0.970 0.937 0.937 0.950 0.966 \n",
      "CV mean score: 0.940\n"
     ]
    }
   ],
   "source": [
    "clf_catNB = CategoricalNB(min_categories=[4] * 561)\n",
    "catNB_accuracy_score, catNB_roc_auc, catNB_pr_auc, catNB_precision, catNB_recall,\\\n",
    "    catNB_conf_matrix = test_classifier(clf_catNB, x_train_discrete, y_train, x_test_discrete, y_test)\n",
    "catNB_scores, catNB_scores_mean = test_cv_classifier(clf_svc, x_discrete, y, n=10)\n",
    "print(\"Categorical Naive Bayes:\")\n",
    "print_results(catNB_accuracy_score, catNB_roc_auc, catNB_pr_auc, catNB_precision, catNB_recall,\\\n",
    "    catNB_conf_matrix, catNB_scores, catNB_scores_mean)"
   ]
  },
  {
   "cell_type": "markdown",
   "metadata": {},
   "source": [
    "Decision Tree Classifier"
   ]
  },
  {
   "cell_type": "code",
   "execution_count": 170,
   "metadata": {},
   "outputs": [
    {
     "name": "stdout",
     "output_type": "stream",
     "text": [
      "Decision Tree Classifier:\n",
      "Accuracy: 0.855\n",
      "ROC AUC: 0.911\n",
      "PR AUC: 0.755\n",
      "Precision: 0.853\n",
      "Recall: 0.851\n",
      "Confusion matrix:\n",
      " [[436  36  24   0   0   0]\n",
      " [ 67 359  45   0   0   0]\n",
      " [ 24  48 348   0   0   0]\n",
      " [  0   0   0 378 113   0]\n",
      " [  0   0   0  70 462   0]\n",
      " [  0   0   0   0   0 537]]\n",
      "CV scores: 0.901 0.848 0.802 0.851 0.871 0.897 0.880 0.810 0.887 0.881 \n",
      "CV mean score: 0.863\n"
     ]
    }
   ],
   "source": [
    "clf_dt = DecisionTreeClassifier()\n",
    "dt_accuracy_score, dt_roc_auc, dt_pr_auc, dt_precision, dt_recall,\\\n",
    "    dt_conf_matrix = test_classifier(clf_dt, x_train, y_train, x_test, y_test)\n",
    "dt_scores, dt_scores_mean = test_cv_classifier(clf_dt, x, y, n=10)\n",
    "print(\"Decision Tree Classifier:\")\n",
    "print_results(dt_accuracy_score, dt_roc_auc, dt_pr_auc, dt_precision, dt_recall,\\\n",
    "    dt_conf_matrix, dt_scores, dt_scores_mean)"
   ]
  },
  {
   "cell_type": "code",
   "execution_count": 171,
   "metadata": {},
   "outputs": [
    {
     "name": "stdout",
     "output_type": "stream",
     "text": [
      "                     Model  Accuracy   ROC AUC    PR AUC  Precision    Recall  \\\n",
      "0                      SVC  0.950458  0.997831  0.990187   0.951999  0.948873   \n",
      "1     Gaussian Naive Bayes  0.770275  0.957646  0.788423   0.792466  0.769066   \n",
      "2  Categorical Naive Bayes  0.870377  0.980578  0.897657   0.871240  0.862318   \n",
      "3            Decision Tree  0.855107  0.911203  0.754769   0.853245  0.851348   \n",
      "\n",
      "                                    Confusion Matrix  \\\n",
      "0  [[488, 5, 3, 0, 0, 0], [20, 451, 0, 0, 0, 0], ...   \n",
      "1  [[416, 38, 42, 0, 0, 0], [9, 451, 11, 0, 0, 0]...   \n",
      "2  [[452, 8, 36, 0, 0, 0], [24, 428, 19, 0, 0, 0]...   \n",
      "3  [[436, 36, 24, 0, 0, 0], [67, 359, 45, 0, 0, 0...   \n",
      "\n",
      "                                           CV Scores  CV Scores Mean  \n",
      "0  [0.970873786407767, 0.9310679611650485, 0.8786...        0.950968  \n",
      "1  [0.7650485436893204, 0.6864077669902913, 0.576...        0.726087  \n",
      "2  [0.954368932038835, 0.916504854368932, 0.85922...        0.940482  \n",
      "3  [0.9009708737864077, 0.8475728155339806, 0.801...        0.862804  \n"
     ]
    }
   ],
   "source": [
    "# Create a DataFrame to store the results\n",
    "results_df = pd.DataFrame({\n",
    "    'Model': ['SVC', 'Gaussian Naive Bayes', 'Categorical Naive Bayes', 'Decision Tree'],\n",
    "    'Accuracy': [svc_accuracy_score, gaussNB_accuracy_score, catNB_accuracy_score, dt_accuracy_score],\n",
    "    'ROC AUC': [svc_roc_auc, gaussNB_roc_auc, catNB_roc_auc, dt_roc_auc],\n",
    "    'PR AUC': [svc_pr_auc, gaussNB_pr_auc, catNB_pr_auc, dt_pr_auc],\n",
    "    'Precision': [svc_precision, gaussNB_precision, catNB_precision, dt_precision],\n",
    "    'Recall': [svc_recall, gaussNB_recall, catNB_recall, dt_recall],\n",
    "    'Confusion Matrix': [svc_conf_matrix, gaussNB_conf_matrix, catNB_conf_matrix, dt_conf_matrix],\n",
    "    'CV Scores': [svc_scores, gaussNB_scores, catNB_scores, dt_scores],\n",
    "    'CV Scores Mean': [svc_scores_mean, gaussNB_scores_mean, catNB_scores_mean, dt_scores_mean]\n",
    "})"
   ]
  },
  {
   "cell_type": "markdown",
   "metadata": {},
   "source": [
    "### Testy na modelach zespołowych z biblioteki scikit-learn\n",
    "(n - liczba modeli w modelu zespołowym)"
   ]
  },
  {
   "cell_type": "code",
   "execution_count": 172,
   "metadata": {},
   "outputs": [
    {
     "data": {
      "text/html": [
       "<table border=\"1\" class=\"dataframe\">\n",
       "  <thead>\n",
       "    <tr style=\"text-align: right;\">\n",
       "      <th></th>\n",
       "      <th>Model</th>\n",
       "      <th>Accuracy</th>\n",
       "      <th>ROC AUC</th>\n",
       "      <th>PR AUC</th>\n",
       "      <th>Precision</th>\n",
       "      <th>Recall</th>\n",
       "      <th>Confusion Matrix</th>\n",
       "      <th>CV Scores</th>\n",
       "      <th>CV Scores Mean</th>\n",
       "    </tr>\n",
       "  </thead>\n",
       "  <tbody>\n",
       "    <tr>\n",
       "      <th>0</th>\n",
       "      <td>SVC</td>\n",
       "      <td>0.950458</td>\n",
       "      <td>0.997831</td>\n",
       "      <td>0.990187</td>\n",
       "      <td>0.951999</td>\n",
       "      <td>0.948873</td>\n",
       "      <td>[[488, 5, 3, 0, 0, 0], [20, 451, 0, 0, 0, 0], [10, 26, 384, 0, 0, 0], [0, 2, 0, 438, 51, 0], [0, 0, 0, 29, 503, 0], [0, 0, 0, 0, 0, 537]]</td>\n",
       "      <td>[0.970873786407767, 0.9310679611650485, 0.8786407766990292, 0.9466019417475728, 0.9699029126213592, 0.9737864077669903, 0.9611650485436893, 0.9563106796116505, 0.9533980582524272, 0.967930029154519]</td>\n",
       "      <td>0.950968</td>\n",
       "    </tr>\n",
       "    <tr>\n",
       "      <th>1</th>\n",
       "      <td>Gaussian Naive Bayes</td>\n",
       "      <td>0.770275</td>\n",
       "      <td>0.957646</td>\n",
       "      <td>0.788423</td>\n",
       "      <td>0.792466</td>\n",
       "      <td>0.769066</td>\n",
       "      <td>[[416, 38, 42, 0, 0, 0], [9, 451, 11, 0, 0, 0], [80, 83, 257, 0, 0, 0], [0, 7, 0, 368, 111, 5], [0, 15, 0, 54, 455, 8], [0, 3, 0, 211, 0, 323]]</td>\n",
       "      <td>[0.7650485436893204, 0.6864077669902913, 0.5766990291262136, 0.7543689320388349, 0.683495145631068, 0.7038834951456311, 0.7864077669902912, 0.7922330097087379, 0.8145631067961165, 0.6977648202137998]</td>\n",
       "      <td>0.726087</td>\n",
       "    </tr>\n",
       "    <tr>\n",
       "      <th>2</th>\n",
       "      <td>Categorical Naive Bayes</td>\n",
       "      <td>0.870377</td>\n",
       "      <td>0.980578</td>\n",
       "      <td>0.897657</td>\n",
       "      <td>0.871240</td>\n",
       "      <td>0.862318</td>\n",
       "      <td>[[452, 8, 36, 0, 0, 0], [24, 428, 19, 0, 0, 0], [84, 63, 273, 0, 0, 0], [0, 2, 0, 377, 111, 1], [0, 1, 0, 33, 498, 0], [0, 0, 0, 0, 0, 537]]</td>\n",
       "      <td>[0.954368932038835, 0.916504854368932, 0.8592233009708737, 0.9514563106796117, 0.9640776699029127, 0.9699029126213592, 0.9368932038834952, 0.9368932038834952, 0.9495145631067962, 0.9659863945578231]</td>\n",
       "      <td>0.940482</td>\n",
       "    </tr>\n",
       "    <tr>\n",
       "      <th>3</th>\n",
       "      <td>Decision Tree</td>\n",
       "      <td>0.855107</td>\n",
       "      <td>0.911203</td>\n",
       "      <td>0.754769</td>\n",
       "      <td>0.853245</td>\n",
       "      <td>0.851348</td>\n",
       "      <td>[[436, 36, 24, 0, 0, 0], [67, 359, 45, 0, 0, 0], [24, 48, 348, 0, 0, 0], [0, 0, 0, 378, 113, 0], [0, 0, 0, 70, 462, 0], [0, 0, 0, 0, 0, 537]]</td>\n",
       "      <td>[0.9009708737864077, 0.8475728155339806, 0.8019417475728156, 0.8514563106796117, 0.870873786407767, 0.8970873786407767, 0.8796116504854369, 0.8097087378640777, 0.887378640776699, 0.8814382896015549]</td>\n",
       "      <td>0.862804</td>\n",
       "    </tr>\n",
       "  </tbody>\n",
       "</table>"
      ],
      "text/plain": [
       "<IPython.core.display.HTML object>"
      ]
     },
     "metadata": {},
     "output_type": "display_data"
    }
   ],
   "source": [
    "display(HTML(results_df.to_html(escape=False)))"
   ]
  },
  {
   "cell_type": "markdown",
   "metadata": {},
   "source": [
    "Random Forest Classifier"
   ]
  },
  {
   "cell_type": "code",
   "execution_count": 165,
   "metadata": {},
   "outputs": [],
   "source": [
    "rf_results = test_ensemble( \n",
    "    x,\n",
    "    y,\n",
    "    x_train,\n",
    "    y_train,\n",
    "    x_test,\n",
    "    y_test,\n",
    "    classifier = RandomForestClassifier,\n",
    "    model = None, \n",
    "    n_estimators_values=[5,10],\n",
    "    random_state = random_state\n",
    "    )"
   ]
  },
  {
   "cell_type": "code",
   "execution_count": 166,
   "metadata": {},
   "outputs": [
    {
     "data": {
      "text/html": [
       "<table border=\"1\" class=\"dataframe\">\n",
       "  <thead>\n",
       "    <tr style=\"text-align: right;\">\n",
       "      <th></th>\n",
       "      <th>n</th>\n",
       "      <th>Accuracy</th>\n",
       "      <th>ROC AUC</th>\n",
       "      <th>PR AUC</th>\n",
       "      <th>Precision</th>\n",
       "      <th>Recall</th>\n",
       "      <th>Confusion matrix</th>\n",
       "      <th>CV scores</th>\n",
       "      <th>CV mean score</th>\n",
       "    </tr>\n",
       "  </thead>\n",
       "  <tbody>\n",
       "    <tr>\n",
       "      <th>0</th>\n",
       "      <td>5</td>\n",
       "      <td>0.875</td>\n",
       "      <td>0.981</td>\n",
       "      <td>0.917</td>\n",
       "      <td>0.88</td>\n",
       "      <td>0.869</td>\n",
       "      <td>[[455, 32, 9, 0, 0, 0],<br> [90, 369, 12, 0, 0, 0],<br> [43, 57, 320, 0, 0, 0],<br> [0, 2, 0, 402, 87, 0],<br> [0, 0, 0, 36, 496, 0],<br> [0, 0, 0, 0, 0, 537]]</td>\n",
       "      <td>0.920, 0.907, 0.842<br>0.873, 0.938, 0.919<br>0.920, 0.925</td>\n",
       "      <td>0.906</td>\n",
       "    </tr>\n",
       "    <tr>\n",
       "      <th>1</th>\n",
       "      <td>10</td>\n",
       "      <td>0.899</td>\n",
       "      <td>0.990</td>\n",
       "      <td>0.951</td>\n",
       "      <td>0.90</td>\n",
       "      <td>0.895</td>\n",
       "      <td>[[467, 19, 10, 0, 0, 0],<br> [61, 398, 12, 0, 0, 0],<br> [28, 52, 340, 0, 0, 0],<br> [0, 0, 0, 434, 57, 0],<br> [0, 0, 0, 59, 473, 0],<br> [0, 0, 0, 0, 0, 537]]</td>\n",
       "      <td>0.928, 0.925, 0.855<br>0.888, 0.953, 0.938<br>0.936, 0.941</td>\n",
       "      <td>0.922</td>\n",
       "    </tr>\n",
       "  </tbody>\n",
       "</table>"
      ],
      "text/plain": [
       "<IPython.core.display.HTML object>"
      ]
     },
     "metadata": {},
     "output_type": "display_data"
    }
   ],
   "source": [
    "display(HTML(rf_results.to_html(escape=False)))"
   ]
  },
  {
   "cell_type": "markdown",
   "metadata": {},
   "source": [
    "Bagging Classifier"
   ]
  },
  {
   "cell_type": "code",
   "execution_count": null,
   "metadata": {},
   "outputs": [],
   "source": [
    "bag_svc_results = test_ensemble( \n",
    "    x,\n",
    "    y,\n",
    "    x_train,\n",
    "    y_train,\n",
    "    x_test,\n",
    "    y_test,\n",
    "    classifier = BaggingClassifier,\n",
    "    model = SVC(probability=True), \n",
    "    n_estimators_values=[5,10],\n",
    "    random_state = random_state\n",
    "    )"
   ]
  },
  {
   "cell_type": "code",
   "execution_count": null,
   "metadata": {},
   "outputs": [],
   "source": [
    "display(HTML(bag_svc_results.to_html(escape=False)))"
   ]
  },
  {
   "cell_type": "code",
   "execution_count": null,
   "metadata": {},
   "outputs": [],
   "source": [
    "bag_dt_results = test_ensemble( \n",
    "    x,\n",
    "    y,\n",
    "    x_train,\n",
    "    y_train,\n",
    "    x_test,\n",
    "    y_test,\n",
    "    classifier = BaggingClassifier,\n",
    "    model = DecisionTreeClassifier(), \n",
    "    n_estimators_values=[5,10],\n",
    "    random_state = random_state\n",
    "    )"
   ]
  },
  {
   "cell_type": "code",
   "execution_count": null,
   "metadata": {},
   "outputs": [],
   "source": [
    "display(HTML(bag_dt_results.to_html(escape=False)))"
   ]
  },
  {
   "cell_type": "code",
   "execution_count": 113,
   "metadata": {},
   "outputs": [],
   "source": [
    "bag_catNB_results = test_ensemble( \n",
    "    x_discrete,\n",
    "    y,\n",
    "    x_train_discrete,\n",
    "    y_train,\n",
    "    x_test_discrete,\n",
    "    y_test,\n",
    "    classifier = BaggingClassifier,\n",
    "    model = CategoricalNB(min_categories=[4]*561), \n",
    "    n_estimators_values=[5,10],\n",
    "    random_state = random_state\n",
    "    )"
   ]
  },
  {
   "cell_type": "code",
   "execution_count": 118,
   "metadata": {},
   "outputs": [
    {
     "name": "stdout",
     "output_type": "stream",
     "text": [
      "Bagging Categorical Naive Bayes:\n"
     ]
    },
    {
     "data": {
      "text/html": [
       "<table border=\"1\" class=\"dataframe\">\n",
       "  <thead>\n",
       "    <tr style=\"text-align: right;\">\n",
       "      <th></th>\n",
       "      <th>n</th>\n",
       "      <th>Accuracy</th>\n",
       "      <th>ROC AUC</th>\n",
       "      <th>PR AUC</th>\n",
       "      <th>Precision</th>\n",
       "      <th>Recall</th>\n",
       "      <th>Confusion matrix</th>\n",
       "      <th>CV scores</th>\n",
       "      <th>CV mean score</th>\n",
       "    </tr>\n",
       "  </thead>\n",
       "  <tbody>\n",
       "    <tr>\n",
       "      <th>0</th>\n",
       "      <td>5</td>\n",
       "      <td>0.871</td>\n",
       "      <td>0.981</td>\n",
       "      <td>0.903</td>\n",
       "      <td>0.873</td>\n",
       "      <td>0.863</td>\n",
       "      <td>[[453, 6, 37, 0, 0, 0],<br> [25, 429, 17, 0, 0, 0],<br> [85, 61, 274, 0, 0, 0],<br> [0, 2, 0, 375, 113, 1],<br> [0, 1, 0, 31, 500, 0],<br> [0, 0, 0, 0, 0, 537]]</td>\n",
       "      <td>0.867, 0.820, 0.774<br>0.807, 0.812, 0.843<br>0.895, 0.833</td>\n",
       "      <td>0.839</td>\n",
       "    </tr>\n",
       "    <tr>\n",
       "      <th>1</th>\n",
       "      <td>10</td>\n",
       "      <td>0.872</td>\n",
       "      <td>0.981</td>\n",
       "      <td>0.903</td>\n",
       "      <td>0.873</td>\n",
       "      <td>0.864</td>\n",
       "      <td>[[452, 7, 37, 0, 0, 0],<br> [24, 430, 17, 0, 0, 0],<br> [85, 61, 274, 0, 0, 0],<br> [0, 2, 0, 379, 109, 1],<br> [0, 1, 0, 32, 499, 0],<br> [0, 0, 0, 0, 0, 537]]</td>\n",
       "      <td>0.864, 0.820, 0.777<br>0.805, 0.810, 0.843<br>0.897, 0.832</td>\n",
       "      <td>0.839</td>\n",
       "    </tr>\n",
       "  </tbody>\n",
       "</table>"
      ],
      "text/plain": [
       "<IPython.core.display.HTML object>"
      ]
     },
     "metadata": {},
     "output_type": "display_data"
    }
   ],
   "source": [
    "print(\"Bagging Categorical Naive Bayes:\")\n",
    "display(HTML(bag_catNB_results.to_html(escape=False)))"
   ]
  },
  {
   "cell_type": "code",
   "execution_count": 115,
   "metadata": {},
   "outputs": [],
   "source": [
    "bag_gaussNB_results = test_ensemble( \n",
    "    x,\n",
    "    y,\n",
    "    x_train,\n",
    "    y_train,\n",
    "    x_test,\n",
    "    y_test,\n",
    "    classifier = BaggingClassifier,\n",
    "    model = GaussianNB(), \n",
    "    n_estimators_values=[5,10],\n",
    "    random_state = random_state\n",
    "    )"
   ]
  },
  {
   "cell_type": "code",
   "execution_count": 117,
   "metadata": {},
   "outputs": [
    {
     "name": "stdout",
     "output_type": "stream",
     "text": [
      "Bagging Gaussian Naive Bayes:\n"
     ]
    },
    {
     "data": {
      "text/html": [
       "<table border=\"1\" class=\"dataframe\">\n",
       "  <thead>\n",
       "    <tr style=\"text-align: right;\">\n",
       "      <th></th>\n",
       "      <th>n</th>\n",
       "      <th>Accuracy</th>\n",
       "      <th>ROC AUC</th>\n",
       "      <th>PR AUC</th>\n",
       "      <th>Precision</th>\n",
       "      <th>Recall</th>\n",
       "      <th>Confusion matrix</th>\n",
       "      <th>CV scores</th>\n",
       "      <th>CV mean score</th>\n",
       "    </tr>\n",
       "  </thead>\n",
       "  <tbody>\n",
       "    <tr>\n",
       "      <th>0</th>\n",
       "      <td>5</td>\n",
       "      <td>0.791</td>\n",
       "      <td>0.958</td>\n",
       "      <td>0.815</td>\n",
       "      <td>0.800</td>\n",
       "      <td>0.786</td>\n",
       "      <td>[[427, 25, 44, 0, 0, 0],<br> [10, 450, 11, 0, 0, 0],<br> [78, 82, 260, 0, 0, 0],<br> [0, 7, 0, 251, 228, 5],<br> [1, 16, 0, 19, 491, 5],<br> [0, 4, 0, 80, 0, 453]]</td>\n",
       "      <td>0.767, 0.707, 0.582<br>0.698, 0.709, 0.799<br>0.870, 0.758</td>\n",
       "      <td>0.747</td>\n",
       "    </tr>\n",
       "    <tr>\n",
       "      <th>1</th>\n",
       "      <td>10</td>\n",
       "      <td>0.808</td>\n",
       "      <td>0.964</td>\n",
       "      <td>0.829</td>\n",
       "      <td>0.819</td>\n",
       "      <td>0.801</td>\n",
       "      <td>[[422, 31, 43, 0, 0, 0],<br> [9, 451, 11, 0, 0, 0],<br> [80, 83, 257, 0, 0, 0],<br> [0, 7, 0, 268, 213, 3],<br> [1, 15, 0, 19, 493, 4],<br> [0, 6, 0, 40, 0, 491]]</td>\n",
       "      <td>0.762, 0.679, 0.585<br>0.688, 0.703, 0.800<br>0.838, 0.705</td>\n",
       "      <td>0.731</td>\n",
       "    </tr>\n",
       "  </tbody>\n",
       "</table>"
      ],
      "text/plain": [
       "<IPython.core.display.HTML object>"
      ]
     },
     "metadata": {},
     "output_type": "display_data"
    }
   ],
   "source": [
    "print(\"Bagging Gaussian Naive Bayes:\")\n",
    "display(HTML(bag_gaussNB_results.to_html(escape=False)))"
   ]
  },
  {
   "cell_type": "markdown",
   "metadata": {},
   "source": [
    "### Testy na przygotowanej implementacji modeli zespołowych"
   ]
  },
  {
   "cell_type": "markdown",
   "metadata": {},
   "source": [
    "Model zespołowy modeli SVC"
   ]
  },
  {
   "cell_type": "code",
   "execution_count": 132,
   "metadata": {},
   "outputs": [],
   "source": [
    "ens_svc_results = test_ensemble( \n",
    "    x,\n",
    "    y,\n",
    "    x_train,\n",
    "    y_train,\n",
    "    x_test,\n",
    "    y_test,\n",
    "    classifier = Ensemble,\n",
    "    model = SVC, \n",
    "    n_estimators_values=[5,10],\n",
    "    random_state = random_state\n",
    "    )"
   ]
  },
  {
   "cell_type": "code",
   "execution_count": 137,
   "metadata": {},
   "outputs": [
    {
     "name": "stdout",
     "output_type": "stream",
     "text": [
      "Ensemble SVC:\n"
     ]
    },
    {
     "data": {
      "text/html": [
       "<table border=\"1\" class=\"dataframe\">\n",
       "  <thead>\n",
       "    <tr style=\"text-align: right;\">\n",
       "      <th></th>\n",
       "      <th>n</th>\n",
       "      <th>Accuracy</th>\n",
       "      <th>ROC AUC</th>\n",
       "      <th>PR AUC</th>\n",
       "      <th>Precision</th>\n",
       "      <th>Recall</th>\n",
       "      <th>Confusion matrix</th>\n",
       "      <th>CV scores</th>\n",
       "      <th>CV mean score</th>\n",
       "    </tr>\n",
       "  </thead>\n",
       "  <tbody>\n",
       "    <tr>\n",
       "      <th>0</th>\n",
       "      <td>5</td>\n",
       "      <td>0.862</td>\n",
       "      <td>0.978</td>\n",
       "      <td>0.912</td>\n",
       "      <td>0.873</td>\n",
       "      <td>0.858</td>\n",
       "      <td>[[470, 3, 23, 0, 0, 0],<br> [25, 430, 16, 0, 0, 0],<br> [51, 51, 318, 0, 0, 0],<br> [0, 2, 0, 342, 135, 12],<br> [0, 0, 0, 35, 497, 0],<br> [0, 0, 0, 6, 47, 484]]</td>\n",
       "      <td>0.871, 0.852, 0.789<br>0.889, 0.877, 0.905<br>0.863, 0.856</td>\n",
       "      <td>0.864</td>\n",
       "    </tr>\n",
       "    <tr>\n",
       "      <th>1</th>\n",
       "      <td>10</td>\n",
       "      <td>0.876</td>\n",
       "      <td>0.986</td>\n",
       "      <td>0.938</td>\n",
       "      <td>0.893</td>\n",
       "      <td>0.871</td>\n",
       "      <td>[[471, 2, 23, 0, 0, 0],<br> [28, 433, 10, 0, 0, 0],<br> [38, 55, 327, 0, 0, 0],<br> [0, 2, 0, 303, 185, 1],<br> [0, 0, 0, 10, 522, 0],<br> [0, 0, 0, 0, 10, 527]]</td>\n",
       "      <td>0.948, 0.923, 0.861<br>0.952, 0.945, 0.920<br>0.914, 0.905</td>\n",
       "      <td>0.917</td>\n",
       "    </tr>\n",
       "  </tbody>\n",
       "</table>"
      ],
      "text/plain": [
       "<IPython.core.display.HTML object>"
      ]
     },
     "metadata": {},
     "output_type": "display_data"
    }
   ],
   "source": [
    "print(\"Ensemble SVC:\")\n",
    "display(HTML(ens_svc_results.to_html(escape=False)))"
   ]
  },
  {
   "cell_type": "markdown",
   "metadata": {},
   "source": [
    "Model zespołowy modeli Gaussian Naive Bayes"
   ]
  },
  {
   "cell_type": "code",
   "execution_count": 173,
   "metadata": {},
   "outputs": [],
   "source": [
    "ens_gaussNB_results = test_ensemble( \n",
    "    x,\n",
    "    y,\n",
    "    x_train,\n",
    "    y_train,\n",
    "    x_test,\n",
    "    y_test,\n",
    "    classifier = Ensemble,\n",
    "    model = GaussianNB, \n",
    "    n_estimators_values=[5,10],\n",
    "    random_state = random_state\n",
    "    )"
   ]
  },
  {
   "cell_type": "code",
   "execution_count": 174,
   "metadata": {},
   "outputs": [
    {
     "name": "stdout",
     "output_type": "stream",
     "text": [
      "Ensemble Gaussian Naive Bayes:\n"
     ]
    },
    {
     "data": {
      "text/html": [
       "<table border=\"1\" class=\"dataframe\">\n",
       "  <thead>\n",
       "    <tr style=\"text-align: right;\">\n",
       "      <th></th>\n",
       "      <th>n</th>\n",
       "      <th>Accuracy</th>\n",
       "      <th>ROC AUC</th>\n",
       "      <th>PR AUC</th>\n",
       "      <th>Precision</th>\n",
       "      <th>Recall</th>\n",
       "      <th>Confusion matrix</th>\n",
       "      <th>CV scores</th>\n",
       "      <th>CV mean score</th>\n",
       "    </tr>\n",
       "  </thead>\n",
       "  <tbody>\n",
       "    <tr>\n",
       "      <th>0</th>\n",
       "      <td>5</td>\n",
       "      <td>0.629</td>\n",
       "      <td>0.931</td>\n",
       "      <td>0.766</td>\n",
       "      <td>0.704</td>\n",
       "      <td>0.639</td>\n",
       "      <td>[[395, 44, 57, 0, 0, 0],<br> [24, 433, 14, 0, 0, 0],<br> [110, 64, 246, 0, 0, 0],<br> [0, 5, 0, 413, 59, 14],<br> [0, 12, 0, 240, 262, 18],<br> [0, 5, 0, 408, 18, 106]]</td>\n",
       "      <td>0.641, 0.540, 0.516<br>0.537, 0.511, 0.617<br>0.608, 0.543</td>\n",
       "      <td>0.568</td>\n",
       "    </tr>\n",
       "    <tr>\n",
       "      <th>1</th>\n",
       "      <td>10</td>\n",
       "      <td>0.737</td>\n",
       "      <td>0.943</td>\n",
       "      <td>0.797</td>\n",
       "      <td>0.767</td>\n",
       "      <td>0.737</td>\n",
       "      <td>[[396, 53, 47, 0, 0, 0],<br> [14, 445, 12, 0, 0, 0],<br> [104, 72, 244, 0, 0, 0],<br> [0, 5, 0, 414, 59, 13],<br> [0, 12, 0, 245, 259, 16],<br> [0, 6, 0, 114, 4, 413]]</td>\n",
       "      <td>0.718, 0.575, 0.551<br>0.566, 0.531, 0.663<br>0.679, 0.561</td>\n",
       "      <td>0.609</td>\n",
       "    </tr>\n",
       "  </tbody>\n",
       "</table>"
      ],
      "text/plain": [
       "<IPython.core.display.HTML object>"
      ]
     },
     "metadata": {},
     "output_type": "display_data"
    }
   ],
   "source": [
    "print(\"Ensemble Gaussian Naive Bayes:\")\n",
    "display(HTML(ens_gaussNB_results.to_html(escape=False)))"
   ]
  },
  {
   "cell_type": "markdown",
   "metadata": {},
   "source": [
    "Model zespołowy modeli Naive Bayes for categorical features"
   ]
  },
  {
   "cell_type": "code",
   "execution_count": 144,
   "metadata": {},
   "outputs": [],
   "source": [
    "ens_catNB_results = test_ensemble( \n",
    "    x_discrete,\n",
    "    y,\n",
    "    x_train_discrete,\n",
    "    y_train,\n",
    "    x_test_discrete,\n",
    "    y_test,\n",
    "    classifier = Ensemble,\n",
    "    model = CategoricalNB, \n",
    "    n_estimators_values=[5,10],\n",
    "    random_state = random_state\n",
    "    )"
   ]
  },
  {
   "cell_type": "code",
   "execution_count": 145,
   "metadata": {},
   "outputs": [
    {
     "name": "stdout",
     "output_type": "stream",
     "text": [
      "Ensemble Categorical Naive Bayes:\n"
     ]
    },
    {
     "data": {
      "text/html": [
       "<table border=\"1\" class=\"dataframe\">\n",
       "  <thead>\n",
       "    <tr style=\"text-align: right;\">\n",
       "      <th></th>\n",
       "      <th>n</th>\n",
       "      <th>Accuracy</th>\n",
       "      <th>ROC AUC</th>\n",
       "      <th>PR AUC</th>\n",
       "      <th>Precision</th>\n",
       "      <th>Recall</th>\n",
       "      <th>Confusion matrix</th>\n",
       "      <th>CV scores</th>\n",
       "      <th>CV mean score</th>\n",
       "    </tr>\n",
       "  </thead>\n",
       "  <tbody>\n",
       "    <tr>\n",
       "      <th>0</th>\n",
       "      <td>5</td>\n",
       "      <td>0.791</td>\n",
       "      <td>0.950</td>\n",
       "      <td>0.810</td>\n",
       "      <td>0.795</td>\n",
       "      <td>0.784</td>\n",
       "      <td>[[409, 33, 54, 0, 0, 0],<br> [50, 398, 23, 0, 0, 0],<br> [99, 59, 262, 0, 0, 0],<br> [0, 2, 0, 328, 129, 32],<br> [0, 1, 0, 70, 461, 0],<br> [0, 1, 0, 9, 55, 472]]</td>\n",
       "      <td>0.793, 0.709, 0.709<br>0.785, 0.792, 0.791<br>0.794, 0.725</td>\n",
       "      <td>0.767</td>\n",
       "    </tr>\n",
       "    <tr>\n",
       "      <th>1</th>\n",
       "      <td>10</td>\n",
       "      <td>0.822</td>\n",
       "      <td>0.957</td>\n",
       "      <td>0.842</td>\n",
       "      <td>0.831</td>\n",
       "      <td>0.813</td>\n",
       "      <td>[[430, 24, 42, 0, 0, 0],<br> [39, 410, 22, 0, 0, 0],<br> [106, 57, 257, 0, 0, 0],<br> [0, 2, 0, 302, 176, 11],<br> [0, 1, 0, 32, 499, 0],<br> [0, 1, 0, 0, 12, 524]]</td>\n",
       "      <td>0.875, 0.799, 0.824<br>0.837, 0.855, 0.829<br>0.874, 0.778</td>\n",
       "      <td>0.836</td>\n",
       "    </tr>\n",
       "  </tbody>\n",
       "</table>"
      ],
      "text/plain": [
       "<IPython.core.display.HTML object>"
      ]
     },
     "metadata": {},
     "output_type": "display_data"
    }
   ],
   "source": [
    "print(\"Ensemble Categorical Naive Bayes:\")\n",
    "display(HTML(ens_catNB_results.to_html(escape=False)))"
   ]
  },
  {
   "cell_type": "markdown",
   "metadata": {},
   "source": [
    "Model zespołowy modeli Decision Tree Classifier"
   ]
  },
  {
   "cell_type": "code",
   "execution_count": 163,
   "metadata": {},
   "outputs": [],
   "source": [
    "ens_dt_results = test_ensemble( \n",
    "    x,\n",
    "    y,\n",
    "    x_train,\n",
    "    y_train,\n",
    "    x_test,\n",
    "    y_test,\n",
    "    classifier = Ensemble,\n",
    "    model = DecisionTreeClassifier, \n",
    "    n_estimators_values=[5,10],\n",
    "    random_state = 4\n",
    "    )"
   ]
  },
  {
   "cell_type": "code",
   "execution_count": 164,
   "metadata": {},
   "outputs": [
    {
     "name": "stdout",
     "output_type": "stream",
     "text": [
      "Ensemble Decision Tree:\n"
     ]
    },
    {
     "data": {
      "text/html": [
       "<table border=\"1\" class=\"dataframe\">\n",
       "  <thead>\n",
       "    <tr style=\"text-align: right;\">\n",
       "      <th></th>\n",
       "      <th>n</th>\n",
       "      <th>Accuracy</th>\n",
       "      <th>ROC AUC</th>\n",
       "      <th>PR AUC</th>\n",
       "      <th>Precision</th>\n",
       "      <th>Recall</th>\n",
       "      <th>Confusion matrix</th>\n",
       "      <th>CV scores</th>\n",
       "      <th>CV mean score</th>\n",
       "    </tr>\n",
       "  </thead>\n",
       "  <tbody>\n",
       "    <tr>\n",
       "      <th>0</th>\n",
       "      <td>5</td>\n",
       "      <td>0.861</td>\n",
       "      <td>0.976</td>\n",
       "      <td>0.893</td>\n",
       "      <td>0.86</td>\n",
       "      <td>0.856</td>\n",
       "      <td>[[438, 25, 33, 0, 0, 0],<br> [46, 407, 18, 0, 0, 0],<br> [66, 45, 309, 0, 0, 0],<br> [0, 0, 0, 395, 88, 8],<br> [0, 0, 0, 71, 455, 6],<br> [0, 0, 0, 1, 3, 533]]</td>\n",
       "      <td>0.830, 0.830, 0.841<br>0.853, 0.851, 0.879<br>0.864, 0.756</td>\n",
       "      <td>0.838</td>\n",
       "    </tr>\n",
       "    <tr>\n",
       "      <th>1</th>\n",
       "      <td>10</td>\n",
       "      <td>0.897</td>\n",
       "      <td>0.987</td>\n",
       "      <td>0.936</td>\n",
       "      <td>0.90</td>\n",
       "      <td>0.891</td>\n",
       "      <td>[[468, 8, 20, 0, 0, 0],<br> [60, 402, 9, 0, 0, 0],<br> [57, 51, 312, 0, 0, 0],<br> [0, 0, 0, 432, 54, 5],<br> [0, 1, 0, 28, 497, 6],<br> [0, 0, 0, 1, 4, 532]]</td>\n",
       "      <td>0.900, 0.870, 0.881<br>0.907, 0.899, 0.925<br>0.915, 0.859</td>\n",
       "      <td>0.895</td>\n",
       "    </tr>\n",
       "  </tbody>\n",
       "</table>"
      ],
      "text/plain": [
       "<IPython.core.display.HTML object>"
      ]
     },
     "metadata": {},
     "output_type": "display_data"
    }
   ],
   "source": [
    "print(\"Ensemble Decision Tree:\")\n",
    "display(HTML(ens_dt_results.to_html(escape=False)))"
   ]
  }
 ],
 "metadata": {
  "kernelspec": {
   "display_name": "myenv",
   "language": "python",
   "name": "python3"
  },
  "language_info": {
   "codemirror_mode": {
    "name": "ipython",
    "version": 3
   },
   "file_extension": ".py",
   "mimetype": "text/x-python",
   "name": "python",
   "nbconvert_exporter": "python",
   "pygments_lexer": "ipython3",
   "version": "3.11.9"
  }
 },
 "nbformat": 4,
 "nbformat_minor": 2
}
