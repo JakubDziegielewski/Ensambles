{
 "cells": [
  {
   "cell_type": "markdown",
   "metadata": {},
   "source": [
    "# ZUM - Projekt"
   ]
  },
  {
   "cell_type": "markdown",
   "metadata": {},
   "source": [
    "Import potrzebnych narzędzi."
   ]
  },
  {
   "cell_type": "code",
   "execution_count": 122,
   "metadata": {},
   "outputs": [],
   "source": [
    "import numpy as np\n",
    "import pandas as pd\n",
    "from sklearn.svm import SVC\n",
    "from sklearn.tree import DecisionTreeClassifier\n",
    "from sklearn.ensemble import RandomForestClassifier, BaggingClassifier\n",
    "from sklearn.naive_bayes import CategoricalNB, GaussianNB\n",
    "from sklearn.preprocessing import LabelEncoder\n",
    "from sklearn.impute import SimpleImputer\n",
    "from sklearn.model_selection import train_test_split\n",
    "from sklearn.metrics import confusion_matrix, roc_curve, auc, roc_auc_score, average_precision_score, precision_score, recall_score, confusion_matrix\n",
    "from sklearn.model_selection import cross_val_score, cross_val_predict"
   ]
  },
  {
   "cell_type": "markdown",
   "metadata": {},
   "source": [
    "Import przygotowanej klasy Ensemble."
   ]
  },
  {
   "cell_type": "code",
   "execution_count": 21,
   "metadata": {},
   "outputs": [],
   "source": [
    "from src.ensembles import Ensemble"
   ]
  },
  {
   "cell_type": "markdown",
   "metadata": {},
   "source": [
    "Plan badań\n",
    "1. Modele zespołowe dla każdego z algorytmów (SVC, DecisionTreeClassifier,  CategoricalNB, GaussianNB)\n",
    "2. Dla każdego z modelów zespołowych testy dla 5, 10, 50, 100 modeli w zespole.\n",
    "3. Analogiczne testy dla Bagging Classifier\n",
    "4. Analogiczne testy dla Random Forest Classifier (liczba drzew)\n",
    "5. Testy na algorytmach konwencjonalnych\n",
    "6. Wszystko wyżej dla CV = 10\n",
    "7. Wszystko wyżej powtórzone dla dwóch zbiorów danych.\n",
    "\n",
    "** dodatkowo różne opcje podzialu atrybutow na modele w modelach zespolowych\n",
    "\n",
    "w sumie (4*4 + 4*4 + 4 + 4)*2 = 80"
   ]
  },
  {
   "cell_type": "markdown",
   "metadata": {},
   "source": [
    "## Human activity"
   ]
  },
  {
   "cell_type": "code",
   "execution_count": 22,
   "metadata": {},
   "outputs": [],
   "source": [
    "random_state = 3"
   ]
  },
  {
   "cell_type": "markdown",
   "metadata": {},
   "source": [
    "Załadowanie danych"
   ]
  },
  {
   "cell_type": "code",
   "execution_count": 125,
   "metadata": {},
   "outputs": [
    {
     "name": "stdout",
     "output_type": "stream",
     "text": [
      "[1 2 3 4 5 6]\n"
     ]
    }
   ],
   "source": [
    "x_train = np.loadtxt(\"human_activity/X_train.txt\", dtype = float)\n",
    "x_test = np.loadtxt(\"human_activity/X_test.txt\", dtype = float)\n",
    "y_train = np.loadtxt(\"human_activity/y_train.txt\", dtype = int)\n",
    "y_test = np.loadtxt(\"human_activity/y_test.txt\", dtype = int)\n",
    "\n",
    "x = np.vstack([x_train, x_test])\n",
    "y = np.append(y_train, y_test)\n",
    "\n",
    "#x_train, x_test, y_train, y_test = train_test_split(\n",
    "#    x, y, test_size=0.99, random_state=random_state\n",
    "#)"
   ]
  },
  {
   "cell_type": "markdown",
   "metadata": {},
   "source": [
    "Funkcja pomocnicza do dyskretyzacji danych"
   ]
  },
  {
   "cell_type": "code",
   "execution_count": 24,
   "metadata": {},
   "outputs": [],
   "source": [
    "def find_intervals(x_train, group_vector):  # auxilary values for data disrcetization\n",
    "    intervals = np.array([np.zeros(i - 1) for i in group_vector])\n",
    "\n",
    "    for i, features in enumerate(x_train.T):\n",
    "        max_value = max(features)\n",
    "        min_value = min(features)\n",
    "        section_size = (max_value - min_value) / group_vector[i]\n",
    "        intervals[i] = np.array(\n",
    "            [min_value + section_size * j for j in range(1, group_vector[i])]\n",
    "        )\n",
    "    return intervals"
   ]
  },
  {
   "cell_type": "markdown",
   "metadata": {},
   "source": [
    "Funkcje do testowania klasyfikatorów"
   ]
  },
  {
   "cell_type": "code",
   "execution_count": 136,
   "metadata": {},
   "outputs": [],
   "source": [
    "def test_classifier(clf, x_train, y_train, x_test, y_test):\n",
    "    clf.fit(x_train, y_train)\n",
    "    \n",
    "    accuracy_score = clf.score(x_test, y_test)\n",
    "    y_pred_proba = clf.predict_proba(x_test)\n",
    "    roc_auc = roc_auc_score(y_test, y_pred_proba, average='macro', multi_class='ovr')\n",
    "    pr_auc = average_precision_score(y_test, y_pred_proba, average='macro')\n",
    "    y_pred = clf.predict(x_test)\n",
    "    precision = precision_score(y_test, y_pred, average='macro')\n",
    "    recall = recall_score(y_test, y_pred, average='macro')\n",
    "    conf_matrix = confusion_matrix(y_test, y_pred)\n",
    "    \n",
    "    return accuracy_score, roc_auc, pr_auc, precision, recall, conf_matrix"
   ]
  },
  {
   "cell_type": "code",
   "execution_count": 135,
   "metadata": {},
   "outputs": [],
   "source": [
    "def test_cv_classifier(clf, x, y, n=10):\n",
    "   scores = cross_val_score(clf, x, y, cv=n)\n",
    "   scores_mean = scores.mean()\n",
    "   return scores, scores_mean"
   ]
  },
  {
   "cell_type": "code",
   "execution_count": 147,
   "metadata": {},
   "outputs": [],
   "source": [
    "def print_results(accuracy_score, roc_auc, pr_auc, precision, recall, conf_matrix, scores, scores_mean):\n",
    "    print(\"Accuracy: {:.3f}\".format(accuracy_score))\n",
    "    print(\"ROC AUC: {:.3f}\".format(roc_auc))\n",
    "    print(\"PR AUC: {:.3f}\".format(pr_auc))\n",
    "    print(\"Precision: {:.3f}\".format(precision))\n",
    "    print(\"Recall: {:.3f}\".format(recall))\n",
    "    print(\"Confusion matrix:\\n\", conf_matrix)\n",
    "    \n",
    "    print(\"CV scores:\", end=\" \")\n",
    "    for score in scores:\n",
    "        print(\"{:.3f}\".format(score), end=\" \")\n",
    "    print()\n",
    "    \n",
    "    print(\"CV mean score: {:.3f}\".format(scores_mean))"
   ]
  },
  {
   "cell_type": "markdown",
   "metadata": {},
   "source": [
    "### Testy na pojedynczych modelach"
   ]
  },
  {
   "cell_type": "markdown",
   "metadata": {},
   "source": [
    "SVC"
   ]
  },
  {
   "cell_type": "code",
   "execution_count": 152,
   "metadata": {},
   "outputs": [
    {
     "name": "stdout",
     "output_type": "stream",
     "text": [
      "SVC:\n",
      "Accuracy: 0.950\n",
      "ROC AUC: 0.998\n",
      "PR AUC: 0.990\n",
      "Precision: 0.952\n",
      "Recall: 0.949\n",
      "Confusion matrix:\n",
      " [[488   5   3   0   0   0]\n",
      " [ 20 451   0   0   0   0]\n",
      " [ 10  26 384   0   0   0]\n",
      " [  0   2   0 438  51   0]\n",
      " [  0   0   0  29 503   0]\n",
      " [  0   0   0   0   0 537]]\n",
      "CV scores: 0.971 0.931 0.879 0.947 0.970 0.974 0.961 0.956 0.953 0.968 \n",
      "CV mean score: 0.951\n"
     ]
    }
   ],
   "source": [
    "clf_svc = SVC(probability=True)\n",
    "svc_accuracy_score, svc_roc_auc, svc_pr_auc, svc_precision, svc_recall,\\\n",
    "    svc_conf_matrix = test_classifier(clf_svc, x_train, y_train, x_test, y_test)\n",
    "svc_scores, svc_scores_mean = test_cv_classifier(clf_svc, x, y, n=10)\n",
    "print(\"SVC:\")\n",
    "print_results(svc_accuracy_score, svc_roc_auc, svc_pr_auc, svc_precision, svc_recall,\\\n",
    "    svc_conf_matrix, svc_scores, svc_scores_mean)\n"
   ]
  },
  {
   "cell_type": "markdown",
   "metadata": {},
   "source": [
    "Gaussian Naive Bayes"
   ]
  },
  {
   "cell_type": "code",
   "execution_count": 151,
   "metadata": {},
   "outputs": [
    {
     "name": "stdout",
     "output_type": "stream",
     "text": [
      "Gaussian Naive Bayes:\n",
      "Accuracy: 0.770\n",
      "ROC AUC: 0.958\n",
      "PR AUC: 0.788\n",
      "Precision: 0.792\n",
      "Recall: 0.769\n",
      "Confusion matrix:\n",
      " [[416  38  42   0   0   0]\n",
      " [  9 451  11   0   0   0]\n",
      " [ 80  83 257   0   0   0]\n",
      " [  0   7   0 368 111   5]\n",
      " [  0  15   0  54 455   8]\n",
      " [  0   3   0 211   0 323]]\n",
      "CV scores: 0.765 0.686 0.577 0.754 0.683 0.704 0.786 0.792 0.815 0.698 \n",
      "CV mean score: 0.726\n"
     ]
    }
   ],
   "source": [
    "clf_gaussNB = GaussianNB()\n",
    "gaussNB_accuracy_score, gaussNB_roc_auc, gaussNB_pr_auc, gaussNB_precision, gaussNB_recall,\\\n",
    "    gaussNB_conf_matrix = test_classifier(clf_gaussNB, x_train, y_train, x_test, y_test)\n",
    "gaussNB_scores, gaussNB_scores_mean = test_cv_classifier(clf_gaussNB, x, y, n=10)\n",
    "print(\"Gaussian Naive Bayes:\")\n",
    "print_results(gaussNB_accuracy_score, gaussNB_roc_auc, gaussNB_pr_auc, gaussNB_precision, gaussNB_recall,\\\n",
    "    gaussNB_conf_matrix, gaussNB_scores, gaussNB_scores_mean)"
   ]
  },
  {
   "cell_type": "markdown",
   "metadata": {},
   "source": [
    "Naive Bayes classifier for categorical features"
   ]
  },
  {
   "cell_type": "code",
   "execution_count": 100,
   "metadata": {},
   "outputs": [],
   "source": [
    "intervals = find_intervals(x_train, [4] * 561)\n",
    "x_train_discrete = np.array([np.digitize(column , bins=intervals[i]) for i, column in enumerate(x_train.T)]).T\n",
    "x_test_discrete = np.array([np.digitize(column , bins=intervals[i]) for i, column in enumerate(x_test.T)]).T\n",
    "x_discrete = np.vstack([x_train_discrete, x_test_discrete])"
   ]
  },
  {
   "cell_type": "code",
   "execution_count": 150,
   "metadata": {},
   "outputs": [
    {
     "name": "stdout",
     "output_type": "stream",
     "text": [
      "Categorical Naive Bayes:\n",
      "Accuracy: 0.870\n",
      "ROC AUC: 0.981\n",
      "PR AUC: 0.898\n",
      "Precision: 0.871\n",
      "Recall: 0.862\n",
      "Confusion matrix:\n",
      " [[452   8  36   0   0   0]\n",
      " [ 24 428  19   0   0   0]\n",
      " [ 84  63 273   0   0   0]\n",
      " [  0   2   0 377 111   1]\n",
      " [  0   1   0  33 498   0]\n",
      " [  0   0   0   0   0 537]]\n",
      "CV scores: 0.954 0.917 0.859 0.951 0.964 0.970 0.937 0.937 0.950 0.966 \n",
      "CV mean score: 0.940\n"
     ]
    }
   ],
   "source": [
    "clf_catNB = CategoricalNB(min_categories=[4] * 561)\n",
    "catNB_accuracy_score, catNB_roc_auc, catNB_pr_auc, catNB_precision, catNB_recall,\\\n",
    "    catNB_conf_matrix = test_classifier(clf_catNB, x_train_discrete, y_train, x_test_discrete, y_test)\n",
    "catNB_scores, catNB_scores_mean = test_cv_classifier(clf_svc, x_discrete, y, n=10)\n",
    "print(\"Categorical Naive Bayes:\")\n",
    "print_results(catNB_accuracy_score, catNB_roc_auc, catNB_pr_auc, catNB_precision, catNB_recall,\\\n",
    "    catNB_conf_matrix, catNB_scores, catNB_scores_mean)"
   ]
  },
  {
   "cell_type": "markdown",
   "metadata": {},
   "source": [
    "Decision Tree Classifier"
   ]
  },
  {
   "cell_type": "code",
   "execution_count": 149,
   "metadata": {},
   "outputs": [
    {
     "name": "stdout",
     "output_type": "stream",
     "text": [
      "Decision Tree Classifier:\n",
      "Accuracy: 0.856\n",
      "ROC AUC: 0.912\n",
      "PR AUC: 0.758\n",
      "Precision: 0.856\n",
      "Recall: 0.853\n",
      "Confusion matrix:\n",
      " [[439  35  22   0   0   0]\n",
      " [ 89 351  31   0   0   0]\n",
      " [ 15  49 356   0   0   0]\n",
      " [  0   0   0 377 114   0]\n",
      " [  0   0   0  68 464   0]\n",
      " [  0   0   0   0   0 537]]\n",
      "CV scores: 0.893 0.839 0.822 0.850 0.900 0.874 0.883 0.817 0.885 0.894 \n",
      "CV mean score: 0.866\n"
     ]
    }
   ],
   "source": [
    "clf_dt = DecisionTreeClassifier()\n",
    "dt_accuracy_score, dt_roc_auc, dt_pr_auc, dt_precision, dt_recall,\\\n",
    "    dt_conf_matrix = test_classifier(clf_dt, x_train, y_train, x_test, y_test)\n",
    "dt_scores, dt_scores_mean = test_cv_classifier(clf_dt, x, y, n=10)\n",
    "print(\"Decision Tree Classifier:\")\n",
    "print_results(dt_accuracy_score, dt_roc_auc, dt_pr_auc, dt_precision, dt_recall,\\\n",
    "    dt_conf_matrix, dt_scores, dt_scores_mean)"
   ]
  },
  {
   "cell_type": "markdown",
   "metadata": {},
   "source": [
    "### Testy na modelach zespołowych z biblioteki scikit-learn"
   ]
  },
  {
   "cell_type": "markdown",
   "metadata": {},
   "source": [
    "Random Forest Classifier"
   ]
  },
  {
   "cell_type": "code",
   "execution_count": 148,
   "metadata": {},
   "outputs": [
    {
     "name": "stdout",
     "output_type": "stream",
     "text": [
      "Random Forest Classifier:\n",
      "Accuracy: 0.899\n",
      "ROC AUC: 0.990\n",
      "PR AUC: 0.951\n",
      "Precision: 0.900\n",
      "Recall: 0.895\n",
      "Confusion matrix:\n",
      " [[467  19  10   0   0   0]\n",
      " [ 61 398  12   0   0   0]\n",
      " [ 28  52 340   0   0   0]\n",
      " [  0   0   0 434  57   0]\n",
      " [  0   0   0  59 473   0]\n",
      " [  0   0   0   0   0 537]]\n",
      "CV scores: 0.928 0.925 0.855 0.948 0.888 0.953 0.938 0.904 0.936 0.941 \n",
      "CV mean score: 0.922\n"
     ]
    }
   ],
   "source": [
    "clf_rf = RandomForestClassifier(n_estimators=10, random_state=random_state)\n",
    "rf_accuracy_score, rf_roc_auc, rf_pr_auc, rf_precision, rf_recall,\\\n",
    "    rf_conf_matrix = test_classifier(clf_rf, x_train, y_train, x_test, y_test)\n",
    "rf_scores, rf_scores_mean = test_cv_classifier(clf_rf, x, y, n=10)\n",
    "print(\"Random Forest Classifier:\")\n",
    "print_results(rf_accuracy_score, rf_roc_auc, rf_pr_auc, rf_precision, rf_recall,\\\n",
    "    rf_conf_matrix, rf_scores, rf_scores_mean)"
   ]
  },
  {
   "cell_type": "markdown",
   "metadata": {},
   "source": [
    "Bagging Classifier"
   ]
  },
  {
   "cell_type": "code",
   "execution_count": 154,
   "metadata": {},
   "outputs": [
    {
     "name": "stdout",
     "output_type": "stream",
     "text": [
      "Bagging SVC Classifier:\n",
      "Accuracy: 0.951\n",
      "ROC AUC: 0.998\n",
      "PR AUC: 0.990\n",
      "Precision: 0.952\n",
      "Recall: 0.950\n",
      "Confusion matrix:\n",
      " [[487   4   5   0   0   0]\n",
      " [ 16 453   2   0   0   0]\n",
      " [  8  24 388   0   0   0]\n",
      " [  0   2   0 438  51   0]\n",
      " [  0   0   0  32 500   0]\n",
      " [  0   0   0   0   0 537]]\n",
      "CV scores: 0.971 0.922 0.878 0.946 0.970 0.975 0.958 0.958 0.955 0.970 \n",
      "CV mean score: 0.950\n"
     ]
    }
   ],
   "source": [
    "clf_bag_svc = BaggingClassifier(estimator=SVC(probability=True), n_estimators=10, random_state=random_state)\n",
    "bag_svc_accuracy_score, bag_svc_roc_auc, bag_svc_pr_auc, bag_svc_precision, bag_svc_recall,\\\n",
    "    bag_svc_conf_matrix = test_classifier(clf_bag_svc, x_train, y_train, x_test, y_test)\n",
    "bag_svc_scores, bag_svc_scores_mean = test_cv_classifier(clf_bag_svc, x, y, n=10)\n",
    "print(\"Bagging SVC Classifier:\")\n",
    "print_results(bag_svc_accuracy_score, bag_svc_roc_auc, bag_svc_pr_auc, bag_svc_precision, bag_svc_recall,\\\n",
    "    bag_svc_conf_matrix, bag_svc_scores, bag_svc_scores_mean)"
   ]
  },
  {
   "cell_type": "code",
   "execution_count": 155,
   "metadata": {},
   "outputs": [
    {
     "name": "stdout",
     "output_type": "stream",
     "text": [
      "Bagging Decision Tree Classifier:\n",
      "Accuracy: 0.881\n",
      "ROC AUC: 0.979\n",
      "PR AUC: 0.925\n",
      "Precision: 0.882\n",
      "Recall: 0.877\n",
      "Confusion matrix:\n",
      " [[475   7  14   0   0   0]\n",
      " [ 84 365  22   0   0   0]\n",
      " [ 12  54 354   0   0   0]\n",
      " [  0   0   0 397  94   0]\n",
      " [  0   0   0  64 468   0]\n",
      " [  0   0   0   0   0 537]]\n",
      "CV scores: 0.914 0.890 0.828 0.920 0.939 0.958 0.907 0.849 0.901 0.927 \n",
      "CV mean score: 0.903\n"
     ]
    }
   ],
   "source": [
    "clf_bag_dt = BaggingClassifier(estimator=DecisionTreeClassifier(),n_estimators=10, random_state=random_state)\n",
    "bag_dt_accuracy_score, bag_dt_roc_auc, bag_dt_pr_auc, bag_dt_precision, bag_dt_recall,\\\n",
    "    bag_dt_conf_matrix = test_classifier(clf_bag_dt, x_train, y_train, x_test, y_test)\n",
    "bag_dt_scores, bag_dt_scores_mean = test_cv_classifier(clf_bag_dt, x, y, n=10)\n",
    "print(\"Bagging Decision Tree Classifier:\")\n",
    "print_results(bag_dt_accuracy_score, bag_dt_roc_auc, bag_dt_pr_auc, bag_dt_precision, bag_dt_recall,\\\n",
    "    bag_dt_conf_matrix, bag_dt_scores, bag_dt_scores_mean)"
   ]
  },
  {
   "cell_type": "code",
   "execution_count": 156,
   "metadata": {},
   "outputs": [],
   "source": [
    "intervals = find_intervals(x_train, [4] * 561)\n",
    "x_train_discrete = np.array([np.digitize(column , bins=intervals[i]) for i, column in enumerate(x_train.T)]).T\n",
    "x_test_discrete = np.array([np.digitize(column , bins=intervals[i]) for i, column in enumerate(x_test.T)]).T\n",
    "x_discrete = np.vstack([x_train_discrete, x_test_discrete])"
   ]
  },
  {
   "cell_type": "code",
   "execution_count": 157,
   "metadata": {},
   "outputs": [
    {
     "name": "stdout",
     "output_type": "stream",
     "text": [
      "Bagging Categorical Naive Bayes:\n",
      "Accuracy: 0.872\n",
      "ROC AUC: 0.981\n",
      "PR AUC: 0.903\n",
      "Precision: 0.873\n",
      "Recall: 0.864\n",
      "Confusion matrix:\n",
      " [[452   7  37   0   0   0]\n",
      " [ 24 430  17   0   0   0]\n",
      " [ 85  61 274   0   0   0]\n",
      " [  0   2   0 379 109   1]\n",
      " [  0   1   0  32 499   0]\n",
      " [  0   0   0   0   0 537]]\n",
      "CV scores: 0.864 0.820 0.777 0.854 0.805 0.810 0.843 0.890 0.897 0.832 \n",
      "CV mean score: 0.839\n"
     ]
    }
   ],
   "source": [
    "clf_bag_catNB = BaggingClassifier(estimator=CategoricalNB(min_categories=[4]*561),n_estimators=10, random_state=random_state)\n",
    "bag_catNB_accuracy_score, bag_catNB_roc_auc, bag_catNB_pr_auc, \\\n",
    "    bag_catNB_precision, bag_catNB_recall, bag_catNB_conf_matrix \\\n",
    "        = test_classifier(clf_bag_catNB, x_train_discrete, y_train, x_test_discrete, y_test)\n",
    "bag_catNB_scores, bag_catNB_scores_mean = test_cv_classifier(clf_bag_catNB, x_discrete, y, n=10)\n",
    "print(\"Bagging Categorical Naive Bayes:\")\n",
    "print_results(bag_catNB_accuracy_score, bag_catNB_roc_auc, bag_catNB_pr_auc, \\\n",
    "    bag_catNB_precision, bag_catNB_recall, bag_catNB_conf_matrix, \\\n",
    "        bag_catNB_scores, bag_catNB_scores_mean)"
   ]
  },
  {
   "cell_type": "code",
   "execution_count": 158,
   "metadata": {},
   "outputs": [
    {
     "name": "stdout",
     "output_type": "stream",
     "text": [
      "Bagging Gaussian Naive Bayes:\n",
      "Accuracy: 0.808\n",
      "ROC AUC: 0.964\n",
      "PR AUC: 0.829\n",
      "Precision: 0.819\n",
      "Recall: 0.801\n",
      "Confusion matrix:\n",
      " [[422  31  43   0   0   0]\n",
      " [  9 451  11   0   0   0]\n",
      " [ 80  83 257   0   0   0]\n",
      " [  0   7   0 268 213   3]\n",
      " [  1  15   0  19 493   4]\n",
      " [  0   6   0  40   0 491]]\n",
      "CV scores: 0.762 0.679 0.585 0.756 0.688 0.703 0.800 0.792 0.838 0.705 \n",
      "CV mean score: 0.731\n"
     ]
    }
   ],
   "source": [
    "clf_bag_gaussNB = BaggingClassifier(estimator=GaussianNB(),n_estimators=10, random_state=random_state)\n",
    "bag_gaussNB_accuracy_score, bag_gaussNB_roc_auc, bag_gaussNB_pr_auc, \\\n",
    "    bag_gaussNB_precision, bag_gaussNB_recall, bag_dt_conf_matrix \\\n",
    "        = test_classifier(clf_bag_gaussNB, x_train, y_train, x_test, y_test)\n",
    "bag_gaussNB_scores, bag_gaussNB_scores_mean = test_cv_classifier(clf_bag_gaussNB, x, y, n=10)\n",
    "print(\"Bagging Gaussian Naive Bayes:\")\n",
    "print_results(bag_gaussNB_accuracy_score, bag_gaussNB_roc_auc, bag_gaussNB_pr_auc, \\\n",
    "    bag_gaussNB_precision, bag_gaussNB_recall, bag_dt_conf_matrix, \\\n",
    "        bag_gaussNB_scores, bag_gaussNB_scores_mean)"
   ]
  },
  {
   "cell_type": "markdown",
   "metadata": {},
   "source": [
    "### Testy na przygotowanej implementacji modeli zespołowych"
   ]
  },
  {
   "cell_type": "markdown",
   "metadata": {},
   "source": [
    "Model zespołowy modeli SVC"
   ]
  },
  {
   "cell_type": "code",
   "execution_count": null,
   "metadata": {},
   "outputs": [],
   "source": [
    "clf_ens_svc = Ensemble(\n",
    "    SVC, 10, random_state=random_state\n",
    ")\n",
    "ens_svc_accuracy_score, ens_svc_roc_auc, ens_svc_pr_auc, \\\n",
    "    ens_svc_precision, ens_svc_recall, ens_svc_conf_matrix \\\n",
    "        = test_classifier(clf_ens_svc, x_train, y_train, x_test, y_test)\n",
    "ens_svc_scores, ens_svc_scores_mean = test_cv_classifier(clf_ens_svc, x, y, n=10)\n",
    "print(\"Ensemble SVC:\")\n",
    "print_results(ens_svc_accuracy_score, ens_svc_roc_auc, ens_svc_pr_auc, \\\n",
    "    ens_svc_precision, ens_svc_recall, ens_svc_conf_matrix, \\\n",
    "        ens_svc_scores, ens_svc_scores_mean)"
   ]
  },
  {
   "cell_type": "markdown",
   "metadata": {},
   "source": [
    "Model zespołowy modeli Gaussian Naive Bayes"
   ]
  },
  {
   "cell_type": "code",
   "execution_count": null,
   "metadata": {},
   "outputs": [],
   "source": [
    "clf_ens_gaussNB = Ensemble(\n",
    "    GaussianNB, 10, random_state=random_state\n",
    ")\n",
    "ens_gaussNB_accuracy_score, ens_gaussNB_roc_auc, ens_gaussNB_pr_auc, \\\n",
    "    ens_gaussNB_precision, ens_gaussNB_recall, ens_gaussNB_conf_matrix \\\n",
    "        = test_classifier(clf_ens_gaussNB, x_train, y_train, x_test, y_test)\n",
    "ens_gaussNB_scores, ens_gaussNB_scores_mean = test_cv_classifier(clf_ens_gaussNB, x, y, n=10)\n",
    "print(\"Ensemble Gaussian Naive Bayes:\")\n",
    "print_results(ens_gaussNB_accuracy_score, ens_gaussNB_roc_auc, ens_gaussNB_pr_auc, \\\n",
    "    ens_gaussNB_precision, ens_gaussNB_recall, ens_gaussNB_conf_matrix, \\\n",
    "        ens_gaussNB_scores, ens_gaussNB_scores_mean)"
   ]
  },
  {
   "cell_type": "markdown",
   "metadata": {},
   "source": [
    "Model zespołowy modeli Naive Bayes for categorical features"
   ]
  },
  {
   "cell_type": "code",
   "execution_count": null,
   "metadata": {},
   "outputs": [],
   "source": [
    "intervals = find_intervals(x_train, [4] * 561)\n",
    "x_train_discrete = np.array([np.digitize(column , bins=intervals[i]) for i, column in enumerate(x_train.T)]).T\n",
    "x_test_discrete = np.array([np.digitize(column , bins=intervals[i]) for i, column in enumerate(x_test.T)]).T\n",
    "x_discrete = np.vstack([x_train_discrete, x_test_discrete])"
   ]
  },
  {
   "cell_type": "code",
   "execution_count": null,
   "metadata": {},
   "outputs": [],
   "source": [
    "clf_ens_catNB = Ensemble(\n",
    "    CategoricalNB, 10, random_state=random_state, min_categories=[4] * 561\n",
    ")\n",
    "ens_catNB_accuracy_score, ens_catNB_roc_auc, ens_catNB_pr_auc, \\\n",
    "    ens_catNB_precision, ens_catNB_recall, ens_catNB_conf_matrix \\\n",
    "        = test_classifier(clf_ens_catNB, x_train, y_train, x_test, y_test)\n",
    "ens_catNB_scores, ens_catNB_scores_mean = test_cv_classifier(clf_ens_catNB, x, y, n=10)\n",
    "print(\"Ensemble Categorical Naive Bayes:\")\n",
    "print_results(ens_catNB_accuracy_score, ens_catNB_roc_auc, ens_catNB_pr_auc, \\\n",
    "    ens_catNB_precision, ens_catNB_recall, ens_catNB_conf_matrix, \\\n",
    "        ens_catNB_scores, ens_catNB_scores_mean)"
   ]
  },
  {
   "cell_type": "markdown",
   "metadata": {},
   "source": [
    "Model zespołowy modeli Decision Tree Classifier"
   ]
  },
  {
   "cell_type": "code",
   "execution_count": null,
   "metadata": {},
   "outputs": [],
   "source": [
    "clf_ens_dt = Ensemble(\n",
    "    DecisionTreeClassifier, 10, max_attributes= 30, random_state=random_state\n",
    ")\n",
    "ens_dt_accuracy_score, ens_dt_roc_auc, ens_dt_pr_auc, \\\n",
    "    ens_dt_precision, ens_dt_recall, ens_dt_conf_matrix \\\n",
    "        = test_classifier(clf_ens_dt, x_train, y_train, x_test, y_test)\n",
    "ens_dt_scores, ens_dt_scores_mean = test_cv_classifier(clf_ens_dt, x, y, n=10)\n",
    "print(\"Ensemble Decision Tree Classifier:\")\n",
    "print_results(ens_dt_accuracy_score, ens_dt_roc_auc, ens_dt_pr_auc, \\\n",
    "    ens_dt_precision, ens_dt_recall, ens_dt_conf_matrix, \\\n",
    "        ens_dt_scores, ens_dt_scores_mean)"
   ]
  }
 ],
 "metadata": {
  "kernelspec": {
   "display_name": "myenv",
   "language": "python",
   "name": "python3"
  },
  "language_info": {
   "codemirror_mode": {
    "name": "ipython",
    "version": 3
   },
   "file_extension": ".py",
   "mimetype": "text/x-python",
   "name": "python",
   "nbconvert_exporter": "python",
   "pygments_lexer": "ipython3",
   "version": "3.11.9"
  }
 },
 "nbformat": 4,
 "nbformat_minor": 2
}
